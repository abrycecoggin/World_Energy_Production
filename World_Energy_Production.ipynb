{
 "cells": [
  {
   "cell_type": "markdown",
   "metadata": {},
   "source": [
    "# World Electricity Production\n",
    "Energy production is an essential part of every functioning society. Energy production is complex and requires much effort and money to not only maintain, but expand. As communities grow, the demand grows. As communities develop and transform not only does the demand grow more, but new and existing items, equipment, tools, appliances, etc. now require energy as well. Fortunately with developing socities and technological advancements our abilities to capture and produce energy grow as well. \n",
    "\n",
    "In this notebook, we are going to analyze monthly electricity production data collected from the International Energy Agency (IEA). This data provides us with information on the amount of energy produced (in GWh) by a specific energy product type during a specific month and year by a country. Below is schema that layouts all the data columns provided in our dataset as well as what data types and values each column take.\n",
    "\n",
    "#### Dataset Columns:\n",
    "1. COUNTRY: Country Name\n",
    "2. CODE_TIME: A code that represents the month and year (ex. JAN2010 for January 2010)\n",
    "3. TIME: The month and year of the data entry\n",
    "4. YEAR: The year of the data point\n",
    "5. MONTH: The month of the data point\n",
    "6. MONTH_NAME: The month of the data point as a string\n",
    "7. PRODUCT: The type of energy product (ex. Coal, Hydro, Solar, Wind, etc.)\n",
    "8. VALUE: The amount of electricity produced by the energy product in gigawatt-hours (GWh)\n",
    "9. DISPLAY_ORDER: The order in which the data is displayed\n",
    "10. yearToDate: The amount of energy produced for the current year up to the current month\n",
    "11. previousYearToDate: The amount of energy produced for the previous year up to the current month\n",
    "12. share: The share of the product in the total energy production for the country\n",
    "\n",
    "#### Project Questions/Objectives:\n",
    "\n",
    " - What is the average energy produced by any country?\n",
    " - What is the average energy produced by each energy product?\n",
    " - Which countries have produced the most energy and which have produced the least amount of energy?\n",
    " - What is the minimum and maximum energy produced by a country in any given month?\n",
    " - Which years had the lowest and highest energy production and demand?\n",
    " - How does energy production and demand change from season to season?\n",
    " - How has the amount of energy produced by renewable energy products changed over time?\n",
    " - How did the COVID-19 pandemic change energy production and demand?"
   ]
  },
  {
   "cell_type": "markdown",
   "metadata": {},
   "source": [
    "First, let's load in the Python libraries we need to load and perform operations on our data."
   ]
  },
  {
   "cell_type": "code",
   "execution_count": 1,
   "metadata": {},
   "outputs": [],
   "source": [
    "import numpy as np\n",
    "import pandas as pd\n",
    "import sqlite3\n",
    "import sqlalchemy\n",
    "%load_ext sql"
   ]
  },
  {
   "cell_type": "code",
   "execution_count": 2,
   "metadata": {},
   "outputs": [],
   "source": [
    "data = \"world_energy_production.db\"\n",
    "conn = sqlite3.connect(data)"
   ]
  },
  {
   "cell_type": "code",
   "execution_count": 3,
   "metadata": {},
   "outputs": [
    {
     "data": {
      "text/plain": [
       "Engine(sqlite:///world_energy_production.db)"
      ]
     },
     "execution_count": 3,
     "metadata": {},
     "output_type": "execute_result"
    }
   ],
   "source": [
    "sqlalchemy.create_engine('sqlite:///world_energy_production.db')"
   ]
  },
  {
   "cell_type": "code",
   "execution_count": 4,
   "metadata": {},
   "outputs": [],
   "source": [
    "raw_data = pd.read_csv('world_energy_production.csv')"
   ]
  },
  {
   "cell_type": "code",
   "execution_count": 5,
   "metadata": {},
   "outputs": [
    {
     "data": {
      "text/plain": [
       "181915"
      ]
     },
     "execution_count": 5,
     "metadata": {},
     "output_type": "execute_result"
    }
   ],
   "source": [
    "raw_data.to_sql('world_energy_production', conn, if_exists='replace')"
   ]
  },
  {
   "cell_type": "markdown",
   "metadata": {},
   "source": [
    "Now let's connect to our database to get access to the data. To do so we will use the `%sql` extention from perform and connect to our sqlite database using `sqlite:///world_energy_production.db`."
   ]
  },
  {
   "cell_type": "code",
   "execution_count": 6,
   "metadata": {},
   "outputs": [],
   "source": [
    "%sql sqlite:///world_energy_production.db"
   ]
  },
  {
   "cell_type": "markdown",
   "metadata": {},
   "source": [
    "Let's take a preview of our data, to do we are going to `SELECT` all of the columns in our `world_energy_production` table. We'll also `LIMIT` the output to 25 records."
   ]
  },
  {
   "cell_type": "code",
   "execution_count": 7,
   "metadata": {},
   "outputs": [
    {
     "name": "stdout",
     "output_type": "stream",
     "text": [
      " * sqlite:///world_energy_production.db\n",
      "Done.\n"
     ]
    },
    {
     "data": {
      "text/html": [
       "<table>\n",
       "    <thead>\n",
       "        <tr>\n",
       "            <th>index</th>\n",
       "            <th>COUNTRY</th>\n",
       "            <th>CODE_TIME</th>\n",
       "            <th>TIME</th>\n",
       "            <th>YEAR</th>\n",
       "            <th>MONTH</th>\n",
       "            <th>MONTH_NAME</th>\n",
       "            <th>PRODUCT</th>\n",
       "            <th>VALUE</th>\n",
       "            <th>DISPLAY_ORDER</th>\n",
       "            <th>yearToDate</th>\n",
       "            <th>previousYearToDate</th>\n",
       "            <th>share</th>\n",
       "        </tr>\n",
       "    </thead>\n",
       "    <tbody>\n",
       "        <tr>\n",
       "            <td>0</td>\n",
       "            <td>Australia</td>\n",
       "            <td>JAN2010</td>\n",
       "            <td>January 2010</td>\n",
       "            <td>2010</td>\n",
       "            <td>1</td>\n",
       "            <td>January</td>\n",
       "            <td>Hydro</td>\n",
       "            <td>990.728</td>\n",
       "            <td>1</td>\n",
       "            <td>16471.891</td>\n",
       "            <td>None</td>\n",
       "            <td>0.0477707293526417</td>\n",
       "        </tr>\n",
       "        <tr>\n",
       "            <td>1</td>\n",
       "            <td>Australia</td>\n",
       "            <td>JAN2010</td>\n",
       "            <td>January 2010</td>\n",
       "            <td>2010</td>\n",
       "            <td>1</td>\n",
       "            <td>January</td>\n",
       "            <td>Wind</td>\n",
       "            <td>409.469</td>\n",
       "            <td>2</td>\n",
       "            <td>4940.909</td>\n",
       "            <td>None</td>\n",
       "            <td>0.0197436963296655</td>\n",
       "        </tr>\n",
       "        <tr>\n",
       "            <td>2</td>\n",
       "            <td>Australia</td>\n",
       "            <td>JAN2010</td>\n",
       "            <td>January 2010</td>\n",
       "            <td>2010</td>\n",
       "            <td>1</td>\n",
       "            <td>January</td>\n",
       "            <td>Solar</td>\n",
       "            <td>49.216</td>\n",
       "            <td>3</td>\n",
       "            <td>908.238</td>\n",
       "            <td>None</td>\n",
       "            <td>0.0023730874829616</td>\n",
       "        </tr>\n",
       "        <tr>\n",
       "            <td>3</td>\n",
       "            <td>Australia</td>\n",
       "            <td>JAN2010</td>\n",
       "            <td>January 2010</td>\n",
       "            <td>2010</td>\n",
       "            <td>1</td>\n",
       "            <td>January</td>\n",
       "            <td>Geothermal</td>\n",
       "            <td>0.083</td>\n",
       "            <td>4</td>\n",
       "            <td>0.996</td>\n",
       "            <td>None</td>\n",
       "            <td>4.002077801646127e-06</td>\n",
       "        </tr>\n",
       "        <tr>\n",
       "            <td>4</td>\n",
       "            <td>Australia</td>\n",
       "            <td>JAN2010</td>\n",
       "            <td>January 2010</td>\n",
       "            <td>2010</td>\n",
       "            <td>1</td>\n",
       "            <td>January</td>\n",
       "            <td>Total combustible fuels</td>\n",
       "            <td>19289.73</td>\n",
       "            <td>7</td>\n",
       "            <td>214302.969</td>\n",
       "            <td>None</td>\n",
       "            <td>0.9301084365391248</td>\n",
       "        </tr>\n",
       "        <tr>\n",
       "            <td>5</td>\n",
       "            <td>Australia</td>\n",
       "            <td>JAN2010</td>\n",
       "            <td>January 2010</td>\n",
       "            <td>2010</td>\n",
       "            <td>1</td>\n",
       "            <td>January</td>\n",
       "            <td>Coal</td>\n",
       "            <td>14796.776</td>\n",
       "            <td>8</td>\n",
       "            <td>163887.775</td>\n",
       "            <td>None</td>\n",
       "            <td>0.7134680574160261</td>\n",
       "        </tr>\n",
       "        <tr>\n",
       "            <td>6</td>\n",
       "            <td>Australia</td>\n",
       "            <td>JAN2010</td>\n",
       "            <td>January 2010</td>\n",
       "            <td>2010</td>\n",
       "            <td>1</td>\n",
       "            <td>January</td>\n",
       "            <td>Oil</td>\n",
       "            <td>732.302</td>\n",
       "            <td>9</td>\n",
       "            <td>2447.778</td>\n",
       "            <td>None</td>\n",
       "            <td>0.0353099949192899</td>\n",
       "        </tr>\n",
       "        <tr>\n",
       "            <td>7</td>\n",
       "            <td>Australia</td>\n",
       "            <td>JAN2010</td>\n",
       "            <td>January 2010</td>\n",
       "            <td>2010</td>\n",
       "            <td>1</td>\n",
       "            <td>January</td>\n",
       "            <td>Natural gas</td>\n",
       "            <td>3544.365</td>\n",
       "            <td>10</td>\n",
       "            <td>45678.585</td>\n",
       "            <td>None</td>\n",
       "            <td>0.1709014998485719</td>\n",
       "        </tr>\n",
       "        <tr>\n",
       "            <td>8</td>\n",
       "            <td>Australia</td>\n",
       "            <td>JAN2010</td>\n",
       "            <td>January 2010</td>\n",
       "            <td>2010</td>\n",
       "            <td>1</td>\n",
       "            <td>January</td>\n",
       "            <td>Combustible renewables</td>\n",
       "            <td>216.287</td>\n",
       "            <td>11</td>\n",
       "            <td>2288.826</td>\n",
       "            <td>None</td>\n",
       "            <td>0.0104288843552365</td>\n",
       "        </tr>\n",
       "        <tr>\n",
       "            <td>9</td>\n",
       "            <td>Australia</td>\n",
       "            <td>JAN2010</td>\n",
       "            <td>January 2010</td>\n",
       "            <td>2010</td>\n",
       "            <td>1</td>\n",
       "            <td>January</td>\n",
       "            <td>Net electricity production</td>\n",
       "            <td>20739.227</td>\n",
       "            <td>14</td>\n",
       "            <td>236625.007</td>\n",
       "            <td>None</td>\n",
       "            <td>1.0</td>\n",
       "        </tr>\n",
       "        <tr>\n",
       "            <td>10</td>\n",
       "            <td>Australia</td>\n",
       "            <td>JAN2010</td>\n",
       "            <td>January 2010</td>\n",
       "            <td>2010</td>\n",
       "            <td>1</td>\n",
       "            <td>January</td>\n",
       "            <td>Electricity supplied</td>\n",
       "            <td>20739.227</td>\n",
       "            <td>17</td>\n",
       "            <td>236625.007</td>\n",
       "            <td>None</td>\n",
       "            <td>1.0</td>\n",
       "        </tr>\n",
       "        <tr>\n",
       "            <td>11</td>\n",
       "            <td>Australia</td>\n",
       "            <td>JAN2010</td>\n",
       "            <td>January 2010</td>\n",
       "            <td>2010</td>\n",
       "            <td>1</td>\n",
       "            <td>January</td>\n",
       "            <td>Used for pumped storage</td>\n",
       "            <td>6.75</td>\n",
       "            <td>18</td>\n",
       "            <td>153.346</td>\n",
       "            <td>None</td>\n",
       "            <td>0.0003254701826639</td>\n",
       "        </tr>\n",
       "        <tr>\n",
       "            <td>12</td>\n",
       "            <td>Australia</td>\n",
       "            <td>JAN2010</td>\n",
       "            <td>January 2010</td>\n",
       "            <td>2010</td>\n",
       "            <td>1</td>\n",
       "            <td>January</td>\n",
       "            <td>Distribution losses</td>\n",
       "            <td>1414.546</td>\n",
       "            <td>19</td>\n",
       "            <td>16380.629</td>\n",
       "            <td>None</td>\n",
       "            <td>0.0682063029639436</td>\n",
       "        </tr>\n",
       "        <tr>\n",
       "            <td>13</td>\n",
       "            <td>Australia</td>\n",
       "            <td>JAN2010</td>\n",
       "            <td>January 2010</td>\n",
       "            <td>2010</td>\n",
       "            <td>1</td>\n",
       "            <td>January</td>\n",
       "            <td>Final consumption</td>\n",
       "            <td>19317.931</td>\n",
       "            <td>20</td>\n",
       "            <td>220091.029</td>\n",
       "            <td>None</td>\n",
       "            <td>0.9314682268533924</td>\n",
       "        </tr>\n",
       "        <tr>\n",
       "            <td>14</td>\n",
       "            <td>Australia</td>\n",
       "            <td>JAN2010</td>\n",
       "            <td>January 2010</td>\n",
       "            <td>2010</td>\n",
       "            <td>1</td>\n",
       "            <td>January</td>\n",
       "            <td>Renewables</td>\n",
       "            <td>1665.783</td>\n",
       "            <td>22</td>\n",
       "            <td>24610.86</td>\n",
       "            <td>None</td>\n",
       "            <td>0.0803203995983071</td>\n",
       "        </tr>\n",
       "        <tr>\n",
       "            <td>15</td>\n",
       "            <td>Australia</td>\n",
       "            <td>JAN2010</td>\n",
       "            <td>January 2010</td>\n",
       "            <td>2010</td>\n",
       "            <td>1</td>\n",
       "            <td>January</td>\n",
       "            <td>Non-renewables</td>\n",
       "            <td>19073.443</td>\n",
       "            <td>23</td>\n",
       "            <td>212014.138</td>\n",
       "            <td>None</td>\n",
       "            <td>0.919679552183888</td>\n",
       "        </tr>\n",
       "        <tr>\n",
       "            <td>16</td>\n",
       "            <td>Australia</td>\n",
       "            <td>JAN2010</td>\n",
       "            <td>January 2010</td>\n",
       "            <td>2010</td>\n",
       "            <td>1</td>\n",
       "            <td>January</td>\n",
       "            <td>Others</td>\n",
       "            <td>732.302</td>\n",
       "            <td>24</td>\n",
       "            <td>2447.778</td>\n",
       "            <td>None</td>\n",
       "            <td>0.0353099949192899</td>\n",
       "        </tr>\n",
       "        <tr>\n",
       "            <td>17</td>\n",
       "            <td>Australia</td>\n",
       "            <td>JAN2010</td>\n",
       "            <td>January 2010</td>\n",
       "            <td>2010</td>\n",
       "            <td>1</td>\n",
       "            <td>January</td>\n",
       "            <td>Other renewables aggregated</td>\n",
       "            <td>216.37</td>\n",
       "            <td>25</td>\n",
       "            <td>2289.822</td>\n",
       "            <td>None</td>\n",
       "            <td>0.0104328864330382</td>\n",
       "        </tr>\n",
       "        <tr>\n",
       "            <td>18</td>\n",
       "            <td>Australia</td>\n",
       "            <td>JAN2010</td>\n",
       "            <td>January 2010</td>\n",
       "            <td>2010</td>\n",
       "            <td>1</td>\n",
       "            <td>January</td>\n",
       "            <td>Low carbon</td>\n",
       "            <td>1665.783</td>\n",
       "            <td>26</td>\n",
       "            <td>24610.86</td>\n",
       "            <td>None</td>\n",
       "            <td>0.0803203995983071</td>\n",
       "        </tr>\n",
       "        <tr>\n",
       "            <td>19</td>\n",
       "            <td>Australia</td>\n",
       "            <td>JAN2010</td>\n",
       "            <td>January 2010</td>\n",
       "            <td>2010</td>\n",
       "            <td>1</td>\n",
       "            <td>January</td>\n",
       "            <td>Fossil fuels</td>\n",
       "            <td>19073.443</td>\n",
       "            <td>27</td>\n",
       "            <td>212014.138</td>\n",
       "            <td>None</td>\n",
       "            <td>0.919679552183888</td>\n",
       "        </tr>\n",
       "        <tr>\n",
       "            <td>20</td>\n",
       "            <td>Austria</td>\n",
       "            <td>JAN2010</td>\n",
       "            <td>January 2010</td>\n",
       "            <td>2010</td>\n",
       "            <td>1</td>\n",
       "            <td>January</td>\n",
       "            <td>Hydro</td>\n",
       "            <td>2579.264</td>\n",
       "            <td>1</td>\n",
       "            <td>39502.566</td>\n",
       "            <td>None</td>\n",
       "            <td>0.4370547928260537</td>\n",
       "        </tr>\n",
       "        <tr>\n",
       "            <td>21</td>\n",
       "            <td>Austria</td>\n",
       "            <td>JAN2010</td>\n",
       "            <td>January 2010</td>\n",
       "            <td>2010</td>\n",
       "            <td>1</td>\n",
       "            <td>January</td>\n",
       "            <td>Wind</td>\n",
       "            <td>200.966</td>\n",
       "            <td>2</td>\n",
       "            <td>1961.814</td>\n",
       "            <td>None</td>\n",
       "            <td>0.0340535724513197</td>\n",
       "        </tr>\n",
       "        <tr>\n",
       "            <td>22</td>\n",
       "            <td>Austria</td>\n",
       "            <td>JAN2010</td>\n",
       "            <td>January 2010</td>\n",
       "            <td>2010</td>\n",
       "            <td>1</td>\n",
       "            <td>January</td>\n",
       "            <td>Solar</td>\n",
       "            <td>2.864</td>\n",
       "            <td>3</td>\n",
       "            <td>84.421</td>\n",
       "            <td>None</td>\n",
       "            <td>0.0004853031433206</td>\n",
       "        </tr>\n",
       "        <tr>\n",
       "            <td>23</td>\n",
       "            <td>Austria</td>\n",
       "            <td>JAN2010</td>\n",
       "            <td>January 2010</td>\n",
       "            <td>2010</td>\n",
       "            <td>1</td>\n",
       "            <td>January</td>\n",
       "            <td>Geothermal</td>\n",
       "            <td>0.111</td>\n",
       "            <td>4</td>\n",
       "            <td>1.332</td>\n",
       "            <td>None</td>\n",
       "            <td>1.880888579210657e-05</td>\n",
       "        </tr>\n",
       "        <tr>\n",
       "            <td>24</td>\n",
       "            <td>Austria</td>\n",
       "            <td>JAN2010</td>\n",
       "            <td>January 2010</td>\n",
       "            <td>2010</td>\n",
       "            <td>1</td>\n",
       "            <td>January</td>\n",
       "            <td>Total combustible fuels</td>\n",
       "            <td>3117.16</td>\n",
       "            <td>7</td>\n",
       "            <td>26042.221</td>\n",
       "            <td>None</td>\n",
       "            <td>0.5282009588803867</td>\n",
       "        </tr>\n",
       "    </tbody>\n",
       "</table>"
      ],
      "text/plain": [
       "[(0, 'Australia', 'JAN2010', 'January 2010', 2010, 1, 'January', 'Hydro', 990.728, 1, 16471.891, None, 0.0477707293526417),\n",
       " (1, 'Australia', 'JAN2010', 'January 2010', 2010, 1, 'January', 'Wind', 409.469, 2, 4940.909, None, 0.0197436963296655),\n",
       " (2, 'Australia', 'JAN2010', 'January 2010', 2010, 1, 'January', 'Solar', 49.216, 3, 908.238, None, 0.0023730874829616),\n",
       " (3, 'Australia', 'JAN2010', 'January 2010', 2010, 1, 'January', 'Geothermal', 0.083, 4, 0.996, None, 4.002077801646127e-06),\n",
       " (4, 'Australia', 'JAN2010', 'January 2010', 2010, 1, 'January', 'Total combustible fuels', 19289.73, 7, 214302.969, None, 0.9301084365391248),\n",
       " (5, 'Australia', 'JAN2010', 'January 2010', 2010, 1, 'January', 'Coal', 14796.776, 8, 163887.775, None, 0.7134680574160261),\n",
       " (6, 'Australia', 'JAN2010', 'January 2010', 2010, 1, 'January', 'Oil', 732.302, 9, 2447.778, None, 0.0353099949192899),\n",
       " (7, 'Australia', 'JAN2010', 'January 2010', 2010, 1, 'January', 'Natural gas', 3544.365, 10, 45678.585, None, 0.1709014998485719),\n",
       " (8, 'Australia', 'JAN2010', 'January 2010', 2010, 1, 'January', 'Combustible renewables', 216.287, 11, 2288.826, None, 0.0104288843552365),\n",
       " (9, 'Australia', 'JAN2010', 'January 2010', 2010, 1, 'January', 'Net electricity production', 20739.227, 14, 236625.007, None, 1.0),\n",
       " (10, 'Australia', 'JAN2010', 'January 2010', 2010, 1, 'January', 'Electricity supplied', 20739.227, 17, 236625.007, None, 1.0),\n",
       " (11, 'Australia', 'JAN2010', 'January 2010', 2010, 1, 'January', 'Used for pumped storage', 6.75, 18, 153.346, None, 0.0003254701826639),\n",
       " (12, 'Australia', 'JAN2010', 'January 2010', 2010, 1, 'January', 'Distribution losses', 1414.546, 19, 16380.629, None, 0.0682063029639436),\n",
       " (13, 'Australia', 'JAN2010', 'January 2010', 2010, 1, 'January', 'Final consumption', 19317.931, 20, 220091.029, None, 0.9314682268533924),\n",
       " (14, 'Australia', 'JAN2010', 'January 2010', 2010, 1, 'January', 'Renewables', 1665.783, 22, 24610.86, None, 0.0803203995983071),\n",
       " (15, 'Australia', 'JAN2010', 'January 2010', 2010, 1, 'January', 'Non-renewables', 19073.443, 23, 212014.138, None, 0.919679552183888),\n",
       " (16, 'Australia', 'JAN2010', 'January 2010', 2010, 1, 'January', 'Others', 732.302, 24, 2447.778, None, 0.0353099949192899),\n",
       " (17, 'Australia', 'JAN2010', 'January 2010', 2010, 1, 'January', 'Other renewables aggregated', 216.37, 25, 2289.822, None, 0.0104328864330382),\n",
       " (18, 'Australia', 'JAN2010', 'January 2010', 2010, 1, 'January', 'Low carbon', 1665.783, 26, 24610.86, None, 0.0803203995983071),\n",
       " (19, 'Australia', 'JAN2010', 'January 2010', 2010, 1, 'January', 'Fossil fuels', 19073.443, 27, 212014.138, None, 0.919679552183888),\n",
       " (20, 'Austria', 'JAN2010', 'January 2010', 2010, 1, 'January', 'Hydro', 2579.264, 1, 39502.566, None, 0.4370547928260537),\n",
       " (21, 'Austria', 'JAN2010', 'January 2010', 2010, 1, 'January', 'Wind', 200.966, 2, 1961.814, None, 0.0340535724513197),\n",
       " (22, 'Austria', 'JAN2010', 'January 2010', 2010, 1, 'January', 'Solar', 2.864, 3, 84.421, None, 0.0004853031433206),\n",
       " (23, 'Austria', 'JAN2010', 'January 2010', 2010, 1, 'January', 'Geothermal', 0.111, 4, 1.332, None, 1.880888579210657e-05),\n",
       " (24, 'Austria', 'JAN2010', 'January 2010', 2010, 1, 'January', 'Total combustible fuels', 3117.16, 7, 26042.221, None, 0.5282009588803867)]"
      ]
     },
     "execution_count": 7,
     "metadata": {},
     "output_type": "execute_result"
    }
   ],
   "source": [
    "%%sql\n",
    "SELECT *\n",
    "FROM \n",
    "    world_energy_production\n",
    "LIMIT 25;"
   ]
  },
  {
   "cell_type": "markdown",
   "metadata": {},
   "source": [
    "Let's extract the number of distinct countries in our dataset. To do this we are going to use the `COUNT` and `DISTINCT` clauses."
   ]
  },
  {
   "cell_type": "code",
   "execution_count": 8,
   "metadata": {},
   "outputs": [
    {
     "name": "stdout",
     "output_type": "stream",
     "text": [
      " * sqlite:///world_energy_production.db\n",
      "Done.\n"
     ]
    },
    {
     "data": {
      "text/html": [
       "<table>\n",
       "    <thead>\n",
       "        <tr>\n",
       "            <th>total_unique_countries</th>\n",
       "        </tr>\n",
       "    </thead>\n",
       "    <tbody>\n",
       "        <tr>\n",
       "            <td>52</td>\n",
       "        </tr>\n",
       "    </tbody>\n",
       "</table>"
      ],
      "text/plain": [
       "[(52,)]"
      ]
     },
     "execution_count": 8,
     "metadata": {},
     "output_type": "execute_result"
    }
   ],
   "source": [
    "%%sql\n",
    "SELECT \n",
    "    COUNT(DISTINCT(COUNTRY)) AS \"total_unique_countries\"\n",
    "FROM \n",
    "    world_energy_production;"
   ]
  },
  {
   "cell_type": "markdown",
   "metadata": {},
   "source": [
    "Now that we have the number of unqiue countries, let's view the countries in our data."
   ]
  },
  {
   "cell_type": "code",
   "execution_count": 9,
   "metadata": {},
   "outputs": [
    {
     "name": "stdout",
     "output_type": "stream",
     "text": [
      " * sqlite:///world_energy_production.db\n",
      "Done.\n"
     ]
    },
    {
     "data": {
      "text/html": [
       "<table>\n",
       "    <thead>\n",
       "        <tr>\n",
       "            <th>unique_countries</th>\n",
       "        </tr>\n",
       "    </thead>\n",
       "    <tbody>\n",
       "        <tr>\n",
       "            <td>Australia</td>\n",
       "        </tr>\n",
       "        <tr>\n",
       "            <td>Austria</td>\n",
       "        </tr>\n",
       "        <tr>\n",
       "            <td>Belgium</td>\n",
       "        </tr>\n",
       "        <tr>\n",
       "            <td>Canada</td>\n",
       "        </tr>\n",
       "        <tr>\n",
       "            <td>Chile</td>\n",
       "        </tr>\n",
       "        <tr>\n",
       "            <td>Czech Republic</td>\n",
       "        </tr>\n",
       "        <tr>\n",
       "            <td>Denmark</td>\n",
       "        </tr>\n",
       "        <tr>\n",
       "            <td>Estonia</td>\n",
       "        </tr>\n",
       "        <tr>\n",
       "            <td>Finland</td>\n",
       "        </tr>\n",
       "        <tr>\n",
       "            <td>France</td>\n",
       "        </tr>\n",
       "        <tr>\n",
       "            <td>Germany</td>\n",
       "        </tr>\n",
       "        <tr>\n",
       "            <td>Greece</td>\n",
       "        </tr>\n",
       "        <tr>\n",
       "            <td>Hungary</td>\n",
       "        </tr>\n",
       "        <tr>\n",
       "            <td>IEA Total</td>\n",
       "        </tr>\n",
       "        <tr>\n",
       "            <td>Iceland</td>\n",
       "        </tr>\n",
       "        <tr>\n",
       "            <td>Ireland</td>\n",
       "        </tr>\n",
       "        <tr>\n",
       "            <td>Italy</td>\n",
       "        </tr>\n",
       "        <tr>\n",
       "            <td>Japan</td>\n",
       "        </tr>\n",
       "        <tr>\n",
       "            <td>Korea</td>\n",
       "        </tr>\n",
       "        <tr>\n",
       "            <td>Latvia</td>\n",
       "        </tr>\n",
       "        <tr>\n",
       "            <td>Lithuania</td>\n",
       "        </tr>\n",
       "        <tr>\n",
       "            <td>Luxembourg</td>\n",
       "        </tr>\n",
       "        <tr>\n",
       "            <td>Mexico</td>\n",
       "        </tr>\n",
       "        <tr>\n",
       "            <td>Netherlands</td>\n",
       "        </tr>\n",
       "        <tr>\n",
       "            <td>New Zealand</td>\n",
       "        </tr>\n",
       "        <tr>\n",
       "            <td>Norway</td>\n",
       "        </tr>\n",
       "        <tr>\n",
       "            <td>OECD Americas</td>\n",
       "        </tr>\n",
       "        <tr>\n",
       "            <td>OECD Asia Oceania</td>\n",
       "        </tr>\n",
       "        <tr>\n",
       "            <td>OECD Europe</td>\n",
       "        </tr>\n",
       "        <tr>\n",
       "            <td>OECD Total</td>\n",
       "        </tr>\n",
       "        <tr>\n",
       "            <td>Poland</td>\n",
       "        </tr>\n",
       "        <tr>\n",
       "            <td>Portugal</td>\n",
       "        </tr>\n",
       "        <tr>\n",
       "            <td>Republic of Turkiye</td>\n",
       "        </tr>\n",
       "        <tr>\n",
       "            <td>Slovak Republic</td>\n",
       "        </tr>\n",
       "        <tr>\n",
       "            <td>Slovenia</td>\n",
       "        </tr>\n",
       "        <tr>\n",
       "            <td>Spain</td>\n",
       "        </tr>\n",
       "        <tr>\n",
       "            <td>Sweden</td>\n",
       "        </tr>\n",
       "        <tr>\n",
       "            <td>Switzerland</td>\n",
       "        </tr>\n",
       "        <tr>\n",
       "            <td>United Kingdom</td>\n",
       "        </tr>\n",
       "        <tr>\n",
       "            <td>United States</td>\n",
       "        </tr>\n",
       "        <tr>\n",
       "            <td>Colombia</td>\n",
       "        </tr>\n",
       "        <tr>\n",
       "            <td>Argentina</td>\n",
       "        </tr>\n",
       "        <tr>\n",
       "            <td>Brazil</td>\n",
       "        </tr>\n",
       "        <tr>\n",
       "            <td>Bulgaria</td>\n",
       "        </tr>\n",
       "        <tr>\n",
       "            <td>Croatia</td>\n",
       "        </tr>\n",
       "        <tr>\n",
       "            <td>Cyprus</td>\n",
       "        </tr>\n",
       "        <tr>\n",
       "            <td>India</td>\n",
       "        </tr>\n",
       "        <tr>\n",
       "            <td>Malta</td>\n",
       "        </tr>\n",
       "        <tr>\n",
       "            <td>North Macedonia</td>\n",
       "        </tr>\n",
       "        <tr>\n",
       "            <td>Romania</td>\n",
       "        </tr>\n",
       "        <tr>\n",
       "            <td>Serbia</td>\n",
       "        </tr>\n",
       "        <tr>\n",
       "            <td>Costa Rica</td>\n",
       "        </tr>\n",
       "    </tbody>\n",
       "</table>"
      ],
      "text/plain": [
       "[('Australia',),\n",
       " ('Austria',),\n",
       " ('Belgium',),\n",
       " ('Canada',),\n",
       " ('Chile',),\n",
       " ('Czech Republic',),\n",
       " ('Denmark',),\n",
       " ('Estonia',),\n",
       " ('Finland',),\n",
       " ('France',),\n",
       " ('Germany',),\n",
       " ('Greece',),\n",
       " ('Hungary',),\n",
       " ('IEA Total',),\n",
       " ('Iceland',),\n",
       " ('Ireland',),\n",
       " ('Italy',),\n",
       " ('Japan',),\n",
       " ('Korea',),\n",
       " ('Latvia',),\n",
       " ('Lithuania',),\n",
       " ('Luxembourg',),\n",
       " ('Mexico',),\n",
       " ('Netherlands',),\n",
       " ('New Zealand',),\n",
       " ('Norway',),\n",
       " ('OECD Americas',),\n",
       " ('OECD Asia Oceania',),\n",
       " ('OECD Europe',),\n",
       " ('OECD Total',),\n",
       " ('Poland',),\n",
       " ('Portugal',),\n",
       " ('Republic of Turkiye',),\n",
       " ('Slovak Republic',),\n",
       " ('Slovenia',),\n",
       " ('Spain',),\n",
       " ('Sweden',),\n",
       " ('Switzerland',),\n",
       " ('United Kingdom',),\n",
       " ('United States',),\n",
       " ('Colombia',),\n",
       " ('Argentina',),\n",
       " ('Brazil',),\n",
       " ('Bulgaria',),\n",
       " ('Croatia',),\n",
       " ('Cyprus',),\n",
       " ('India',),\n",
       " ('Malta',),\n",
       " ('North Macedonia',),\n",
       " ('Romania',),\n",
       " ('Serbia',),\n",
       " ('Costa Rica',)]"
      ]
     },
     "execution_count": 9,
     "metadata": {},
     "output_type": "execute_result"
    }
   ],
   "source": [
    "%%sql\n",
    "SELECT \n",
    "    DISTINCT(COUNTRY) AS \"unique_countries\"\n",
    "FROM \n",
    "    world_energy_production;"
   ]
  },
  {
   "cell_type": "markdown",
   "metadata": {},
   "source": [
    "Notice that there are data points in the country column that are aggregated data points. For example there are data values \"OECD Americas\", \"OECD Asia Oceania\", \"OECD Europe\", \"OECD Total\", etc. that represent the combined energy production within those regions."
   ]
  },
  {
   "cell_type": "code",
   "execution_count": 10,
   "metadata": {},
   "outputs": [
    {
     "name": "stdout",
     "output_type": "stream",
     "text": [
      " * sqlite:///world_energy_production.db\n",
      "Done.\n"
     ]
    },
    {
     "data": {
      "text/html": [
       "<table>\n",
       "    <thead>\n",
       "        <tr>\n",
       "            <th>unique_energy_products</th>\n",
       "        </tr>\n",
       "    </thead>\n",
       "    <tbody>\n",
       "        <tr>\n",
       "            <td>Hydro</td>\n",
       "        </tr>\n",
       "        <tr>\n",
       "            <td>Wind</td>\n",
       "        </tr>\n",
       "        <tr>\n",
       "            <td>Solar</td>\n",
       "        </tr>\n",
       "        <tr>\n",
       "            <td>Geothermal</td>\n",
       "        </tr>\n",
       "        <tr>\n",
       "            <td>Total combustible fuels</td>\n",
       "        </tr>\n",
       "        <tr>\n",
       "            <td>Coal</td>\n",
       "        </tr>\n",
       "        <tr>\n",
       "            <td>Oil</td>\n",
       "        </tr>\n",
       "        <tr>\n",
       "            <td>Natural gas</td>\n",
       "        </tr>\n",
       "        <tr>\n",
       "            <td>Combustible renewables</td>\n",
       "        </tr>\n",
       "        <tr>\n",
       "            <td>Net electricity production</td>\n",
       "        </tr>\n",
       "        <tr>\n",
       "            <td>Electricity supplied</td>\n",
       "        </tr>\n",
       "        <tr>\n",
       "            <td>Used for pumped storage</td>\n",
       "        </tr>\n",
       "        <tr>\n",
       "            <td>Distribution losses</td>\n",
       "        </tr>\n",
       "        <tr>\n",
       "            <td>Final consumption</td>\n",
       "        </tr>\n",
       "        <tr>\n",
       "            <td>Renewables</td>\n",
       "        </tr>\n",
       "        <tr>\n",
       "            <td>Non-renewables</td>\n",
       "        </tr>\n",
       "        <tr>\n",
       "            <td>Others</td>\n",
       "        </tr>\n",
       "        <tr>\n",
       "            <td>Other renewables aggregated</td>\n",
       "        </tr>\n",
       "        <tr>\n",
       "            <td>Low carbon</td>\n",
       "        </tr>\n",
       "        <tr>\n",
       "            <td>Fossil fuels</td>\n",
       "        </tr>\n",
       "        <tr>\n",
       "            <td>Other combustible non-renewables</td>\n",
       "        </tr>\n",
       "        <tr>\n",
       "            <td>Not specified</td>\n",
       "        </tr>\n",
       "        <tr>\n",
       "            <td>Total imports</td>\n",
       "        </tr>\n",
       "        <tr>\n",
       "            <td>Total exports</td>\n",
       "        </tr>\n",
       "        <tr>\n",
       "            <td>Electricity trade</td>\n",
       "        </tr>\n",
       "        <tr>\n",
       "            <td>Nuclear</td>\n",
       "        </tr>\n",
       "        <tr>\n",
       "            <td>Other renewables</td>\n",
       "        </tr>\n",
       "    </tbody>\n",
       "</table>"
      ],
      "text/plain": [
       "[('Hydro',),\n",
       " ('Wind',),\n",
       " ('Solar',),\n",
       " ('Geothermal',),\n",
       " ('Total combustible fuels',),\n",
       " ('Coal',),\n",
       " ('Oil',),\n",
       " ('Natural gas',),\n",
       " ('Combustible renewables',),\n",
       " ('Net electricity production',),\n",
       " ('Electricity supplied',),\n",
       " ('Used for pumped storage',),\n",
       " ('Distribution losses',),\n",
       " ('Final consumption',),\n",
       " ('Renewables',),\n",
       " ('Non-renewables',),\n",
       " ('Others',),\n",
       " ('Other renewables aggregated',),\n",
       " ('Low carbon',),\n",
       " ('Fossil fuels',),\n",
       " ('Other combustible non-renewables',),\n",
       " ('Not specified',),\n",
       " ('Total imports',),\n",
       " ('Total exports',),\n",
       " ('Electricity trade',),\n",
       " ('Nuclear',),\n",
       " ('Other renewables',)]"
      ]
     },
     "execution_count": 10,
     "metadata": {},
     "output_type": "execute_result"
    }
   ],
   "source": [
    "%%sql\n",
    "SELECT \n",
    "    DISTINCT(PRODUCT) AS \"unique_energy_products\"\n",
    "FROM \n",
    "    world_energy_production;"
   ]
  },
  {
   "cell_type": "markdown",
   "metadata": {},
   "source": [
    "Notice that one of the energy product types that appears in our output is \"final consumption\" which provides the demand of energy for that particular data point.\n",
    "\n",
    "Additionally, there are other energy product types that are aggregates of other energy products such as \"Fossil Fuels\", \"Renewables\", \"Non-renewables\", etc.\n",
    "\n",
    "To avoid any issues with our analysis that these aggregated data points may cause, I am going to create a series of views in our database. The first will be the called `net_electricity_production` that only includes the records in our data without the aggregated data points in the `Country` and `Product` data columns except for the \"Net electricity production\" data value in the `Product` column. Also, I am going to create a view called `energy_demand` which will only include the \"final consumption\" data value in the `Product` data column.\n",
    "\n",
    "We will be using these views for the majority of our analysis."
   ]
  },
  {
   "cell_type": "code",
   "execution_count": 11,
   "metadata": {},
   "outputs": [
    {
     "name": "stdout",
     "output_type": "stream",
     "text": [
      " * sqlite:///world_energy_production.db\n",
      "Done.\n"
     ]
    },
    {
     "data": {
      "text/plain": [
       "[]"
      ]
     },
     "execution_count": 11,
     "metadata": {},
     "output_type": "execute_result"
    }
   ],
   "source": [
    "%%sql\n",
    "CREATE VIEW IF NOT EXISTS net_electricity_production AS\n",
    "SELECT\n",
    "    e.COUNTRY,\n",
    "    e.YEAR,\n",
    "    e.MONTH,\n",
    "    e.MONTH_NAME,\n",
    "    e.PRODUCT,\n",
    "    e.VALUE\n",
    "FROM\n",
    "    world_energy_production AS e\n",
    "WHERE\n",
    "    e.PRODUCT = \"Net electricity production\"\n",
    "    AND e.COUNTRY NOT LIKE '%OECD%'\n",
    "    AND e.COUNTRY NOT LIKE '%IEA%';"
   ]
  },
  {
   "cell_type": "code",
   "execution_count": 12,
   "metadata": {},
   "outputs": [
    {
     "name": "stdout",
     "output_type": "stream",
     "text": [
      " * sqlite:///world_energy_production.db\n",
      "Done.\n"
     ]
    },
    {
     "data": {
      "text/html": [
       "<table>\n",
       "    <thead>\n",
       "        <tr>\n",
       "            <th>COUNTRY</th>\n",
       "            <th>YEAR</th>\n",
       "            <th>MONTH</th>\n",
       "            <th>MONTH_NAME</th>\n",
       "            <th>PRODUCT</th>\n",
       "            <th>VALUE</th>\n",
       "        </tr>\n",
       "    </thead>\n",
       "    <tbody>\n",
       "        <tr>\n",
       "            <td>Australia</td>\n",
       "            <td>2010</td>\n",
       "            <td>1</td>\n",
       "            <td>January</td>\n",
       "            <td>Net electricity production</td>\n",
       "            <td>20739.227</td>\n",
       "        </tr>\n",
       "        <tr>\n",
       "            <td>Austria</td>\n",
       "            <td>2010</td>\n",
       "            <td>1</td>\n",
       "            <td>January</td>\n",
       "            <td>Net electricity production</td>\n",
       "            <td>5901.466</td>\n",
       "        </tr>\n",
       "        <tr>\n",
       "            <td>Belgium</td>\n",
       "            <td>2010</td>\n",
       "            <td>1</td>\n",
       "            <td>January</td>\n",
       "            <td>Net electricity production</td>\n",
       "            <td>8340.712</td>\n",
       "        </tr>\n",
       "        <tr>\n",
       "            <td>Canada</td>\n",
       "            <td>2010</td>\n",
       "            <td>1</td>\n",
       "            <td>January</td>\n",
       "            <td>Net electricity production</td>\n",
       "            <td>60331.621</td>\n",
       "        </tr>\n",
       "        <tr>\n",
       "            <td>Chile</td>\n",
       "            <td>2010</td>\n",
       "            <td>1</td>\n",
       "            <td>January</td>\n",
       "            <td>Net electricity production</td>\n",
       "            <td>4780.411</td>\n",
       "        </tr>\n",
       "        <tr>\n",
       "            <td>Czech Republic</td>\n",
       "            <td>2010</td>\n",
       "            <td>1</td>\n",
       "            <td>January</td>\n",
       "            <td>Net electricity production</td>\n",
       "            <td>7767.877</td>\n",
       "        </tr>\n",
       "        <tr>\n",
       "            <td>Denmark</td>\n",
       "            <td>2010</td>\n",
       "            <td>1</td>\n",
       "            <td>January</td>\n",
       "            <td>Net electricity production</td>\n",
       "            <td>4052.916</td>\n",
       "        </tr>\n",
       "        <tr>\n",
       "            <td>Estonia</td>\n",
       "            <td>2010</td>\n",
       "            <td>1</td>\n",
       "            <td>January</td>\n",
       "            <td>Net electricity production</td>\n",
       "            <td>1133.431</td>\n",
       "        </tr>\n",
       "        <tr>\n",
       "            <td>Finland</td>\n",
       "            <td>2010</td>\n",
       "            <td>1</td>\n",
       "            <td>January</td>\n",
       "            <td>Net electricity production</td>\n",
       "            <td>8301.546</td>\n",
       "        </tr>\n",
       "        <tr>\n",
       "            <td>France</td>\n",
       "            <td>2010</td>\n",
       "            <td>1</td>\n",
       "            <td>January</td>\n",
       "            <td>Net electricity production</td>\n",
       "            <td>55810.737</td>\n",
       "        </tr>\n",
       "        <tr>\n",
       "            <td>Germany</td>\n",
       "            <td>2010</td>\n",
       "            <td>1</td>\n",
       "            <td>January</td>\n",
       "            <td>Net electricity production</td>\n",
       "            <td>56064.044</td>\n",
       "        </tr>\n",
       "        <tr>\n",
       "            <td>Greece</td>\n",
       "            <td>2010</td>\n",
       "            <td>1</td>\n",
       "            <td>January</td>\n",
       "            <td>Net electricity production</td>\n",
       "            <td>4989.523</td>\n",
       "        </tr>\n",
       "        <tr>\n",
       "            <td>Hungary</td>\n",
       "            <td>2010</td>\n",
       "            <td>1</td>\n",
       "            <td>January</td>\n",
       "            <td>Net electricity production</td>\n",
       "            <td>3362.043</td>\n",
       "        </tr>\n",
       "        <tr>\n",
       "            <td>Iceland</td>\n",
       "            <td>2010</td>\n",
       "            <td>1</td>\n",
       "            <td>January</td>\n",
       "            <td>Net electricity production</td>\n",
       "            <td>1463.154</td>\n",
       "        </tr>\n",
       "        <tr>\n",
       "            <td>Ireland</td>\n",
       "            <td>2010</td>\n",
       "            <td>1</td>\n",
       "            <td>January</td>\n",
       "            <td>Net electricity production</td>\n",
       "            <td>2643.278</td>\n",
       "        </tr>\n",
       "        <tr>\n",
       "            <td>Italy</td>\n",
       "            <td>2010</td>\n",
       "            <td>1</td>\n",
       "            <td>January</td>\n",
       "            <td>Net electricity production</td>\n",
       "            <td>25416.055</td>\n",
       "        </tr>\n",
       "        <tr>\n",
       "            <td>Japan</td>\n",
       "            <td>2010</td>\n",
       "            <td>1</td>\n",
       "            <td>January</td>\n",
       "            <td>Net electricity production</td>\n",
       "            <td>97027.586</td>\n",
       "        </tr>\n",
       "        <tr>\n",
       "            <td>Korea</td>\n",
       "            <td>2010</td>\n",
       "            <td>1</td>\n",
       "            <td>January</td>\n",
       "            <td>Net electricity production</td>\n",
       "            <td>44513.779</td>\n",
       "        </tr>\n",
       "        <tr>\n",
       "            <td>Latvia</td>\n",
       "            <td>2010</td>\n",
       "            <td>1</td>\n",
       "            <td>January</td>\n",
       "            <td>Net electricity production</td>\n",
       "            <td>671.162</td>\n",
       "        </tr>\n",
       "        <tr>\n",
       "            <td>Lithuania</td>\n",
       "            <td>2010</td>\n",
       "            <td>1</td>\n",
       "            <td>January</td>\n",
       "            <td>Net electricity production</td>\n",
       "            <td>823.642</td>\n",
       "        </tr>\n",
       "    </tbody>\n",
       "</table>"
      ],
      "text/plain": [
       "[('Australia', 2010, 1, 'January', 'Net electricity production', 20739.227),\n",
       " ('Austria', 2010, 1, 'January', 'Net electricity production', 5901.466),\n",
       " ('Belgium', 2010, 1, 'January', 'Net electricity production', 8340.712),\n",
       " ('Canada', 2010, 1, 'January', 'Net electricity production', 60331.621),\n",
       " ('Chile', 2010, 1, 'January', 'Net electricity production', 4780.411),\n",
       " ('Czech Republic', 2010, 1, 'January', 'Net electricity production', 7767.877),\n",
       " ('Denmark', 2010, 1, 'January', 'Net electricity production', 4052.916),\n",
       " ('Estonia', 2010, 1, 'January', 'Net electricity production', 1133.431),\n",
       " ('Finland', 2010, 1, 'January', 'Net electricity production', 8301.546),\n",
       " ('France', 2010, 1, 'January', 'Net electricity production', 55810.737),\n",
       " ('Germany', 2010, 1, 'January', 'Net electricity production', 56064.044),\n",
       " ('Greece', 2010, 1, 'January', 'Net electricity production', 4989.523),\n",
       " ('Hungary', 2010, 1, 'January', 'Net electricity production', 3362.043),\n",
       " ('Iceland', 2010, 1, 'January', 'Net electricity production', 1463.154),\n",
       " ('Ireland', 2010, 1, 'January', 'Net electricity production', 2643.278),\n",
       " ('Italy', 2010, 1, 'January', 'Net electricity production', 25416.055),\n",
       " ('Japan', 2010, 1, 'January', 'Net electricity production', 97027.586),\n",
       " ('Korea', 2010, 1, 'January', 'Net electricity production', 44513.779),\n",
       " ('Latvia', 2010, 1, 'January', 'Net electricity production', 671.162),\n",
       " ('Lithuania', 2010, 1, 'January', 'Net electricity production', 823.642)]"
      ]
     },
     "execution_count": 12,
     "metadata": {},
     "output_type": "execute_result"
    }
   ],
   "source": [
    "%%sql\n",
    "SELECT *\n",
    "FROM \n",
    "    net_electricity_production\n",
    "LIMIT 20;"
   ]
  },
  {
   "cell_type": "code",
   "execution_count": 13,
   "metadata": {},
   "outputs": [
    {
     "name": "stdout",
     "output_type": "stream",
     "text": [
      " * sqlite:///world_energy_production.db\n",
      "Done.\n"
     ]
    },
    {
     "data": {
      "text/plain": [
       "[]"
      ]
     },
     "execution_count": 13,
     "metadata": {},
     "output_type": "execute_result"
    }
   ],
   "source": [
    "%%sql\n",
    "CREATE VIEW IF NOT EXISTS energy_demand AS\n",
    "SELECT\n",
    "    e.COUNTRY,\n",
    "    e.YEAR,\n",
    "    e.MONTH,\n",
    "    e.MONTH_NAME,\n",
    "    e.PRODUCT,\n",
    "    e.VALUE\n",
    "FROM\n",
    "    world_energy_production AS e\n",
    "WHERE\n",
    "    e.PRODUCT = \"Final consumption\"\n",
    "    AND e.COUNTRY NOT LIKE '%OECD%'\n",
    "    AND e.COUNTRY NOT LIKE '%IEA%';"
   ]
  },
  {
   "cell_type": "code",
   "execution_count": 14,
   "metadata": {},
   "outputs": [
    {
     "name": "stdout",
     "output_type": "stream",
     "text": [
      " * sqlite:///world_energy_production.db\n",
      "Done.\n"
     ]
    },
    {
     "data": {
      "text/html": [
       "<table>\n",
       "    <thead>\n",
       "        <tr>\n",
       "            <th>COUNTRY</th>\n",
       "            <th>YEAR</th>\n",
       "            <th>MONTH</th>\n",
       "            <th>MONTH_NAME</th>\n",
       "            <th>PRODUCT</th>\n",
       "            <th>VALUE</th>\n",
       "        </tr>\n",
       "    </thead>\n",
       "    <tbody>\n",
       "        <tr>\n",
       "            <td>Australia</td>\n",
       "            <td>2010</td>\n",
       "            <td>1</td>\n",
       "            <td>January</td>\n",
       "            <td>Final consumption</td>\n",
       "            <td>19317.931</td>\n",
       "        </tr>\n",
       "        <tr>\n",
       "            <td>Austria</td>\n",
       "            <td>2010</td>\n",
       "            <td>1</td>\n",
       "            <td>January</td>\n",
       "            <td>Final consumption</td>\n",
       "            <td>5949.988</td>\n",
       "        </tr>\n",
       "        <tr>\n",
       "            <td>Belgium</td>\n",
       "            <td>2010</td>\n",
       "            <td>1</td>\n",
       "            <td>January</td>\n",
       "            <td>Final consumption</td>\n",
       "            <td>8002.099</td>\n",
       "        </tr>\n",
       "        <tr>\n",
       "            <td>Canada</td>\n",
       "            <td>2010</td>\n",
       "            <td>1</td>\n",
       "            <td>January</td>\n",
       "            <td>Final consumption</td>\n",
       "            <td>51287.873</td>\n",
       "        </tr>\n",
       "        <tr>\n",
       "            <td>Chile</td>\n",
       "            <td>2010</td>\n",
       "            <td>1</td>\n",
       "            <td>January</td>\n",
       "            <td>Final consumption</td>\n",
       "            <td>4508.132</td>\n",
       "        </tr>\n",
       "        <tr>\n",
       "            <td>Czech Republic</td>\n",
       "            <td>2010</td>\n",
       "            <td>1</td>\n",
       "            <td>January</td>\n",
       "            <td>Final consumption</td>\n",
       "            <td>5743.855</td>\n",
       "        </tr>\n",
       "        <tr>\n",
       "            <td>Denmark</td>\n",
       "            <td>2010</td>\n",
       "            <td>1</td>\n",
       "            <td>January</td>\n",
       "            <td>Final consumption</td>\n",
       "            <td>3252.364</td>\n",
       "        </tr>\n",
       "        <tr>\n",
       "            <td>Estonia</td>\n",
       "            <td>2010</td>\n",
       "            <td>1</td>\n",
       "            <td>January</td>\n",
       "            <td>Final consumption</td>\n",
       "            <td>861.106</td>\n",
       "        </tr>\n",
       "        <tr>\n",
       "            <td>Finland</td>\n",
       "            <td>2010</td>\n",
       "            <td>1</td>\n",
       "            <td>January</td>\n",
       "            <td>Final consumption</td>\n",
       "            <td>9032.904</td>\n",
       "        </tr>\n",
       "        <tr>\n",
       "            <td>France</td>\n",
       "            <td>2010</td>\n",
       "            <td>1</td>\n",
       "            <td>January</td>\n",
       "            <td>Final consumption</td>\n",
       "            <td>51864.447</td>\n",
       "        </tr>\n",
       "    </tbody>\n",
       "</table>"
      ],
      "text/plain": [
       "[('Australia', 2010, 1, 'January', 'Final consumption', 19317.931),\n",
       " ('Austria', 2010, 1, 'January', 'Final consumption', 5949.988),\n",
       " ('Belgium', 2010, 1, 'January', 'Final consumption', 8002.099),\n",
       " ('Canada', 2010, 1, 'January', 'Final consumption', 51287.873),\n",
       " ('Chile', 2010, 1, 'January', 'Final consumption', 4508.132),\n",
       " ('Czech Republic', 2010, 1, 'January', 'Final consumption', 5743.855),\n",
       " ('Denmark', 2010, 1, 'January', 'Final consumption', 3252.364),\n",
       " ('Estonia', 2010, 1, 'January', 'Final consumption', 861.106),\n",
       " ('Finland', 2010, 1, 'January', 'Final consumption', 9032.904),\n",
       " ('France', 2010, 1, 'January', 'Final consumption', 51864.447)]"
      ]
     },
     "execution_count": 14,
     "metadata": {},
     "output_type": "execute_result"
    }
   ],
   "source": [
    "%%sql\n",
    "SELECT *\n",
    "FROM energy_demand\n",
    "LIMIT 10;"
   ]
  },
  {
   "cell_type": "markdown",
   "metadata": {},
   "source": [
    "Now that we have created the two views we will be using for our analysis we can move on to the objectives of our project!"
   ]
  },
  {
   "cell_type": "markdown",
   "metadata": {},
   "source": [
    "### 1. What is the average energy produced by any country?"
   ]
  },
  {
   "cell_type": "markdown",
   "metadata": {},
   "source": [
    "To find the average energy produced by any country, let's first `SELECT` the and calculate the average(`AVG`) of the `VALUE` column in our table. We will be the using the `net_electricity_production` we created before to answer our question."
   ]
  },
  {
   "cell_type": "code",
   "execution_count": 15,
   "metadata": {},
   "outputs": [
    {
     "name": "stdout",
     "output_type": "stream",
     "text": [
      " * sqlite:///world_energy_production.db\n",
      "Done.\n"
     ]
    },
    {
     "data": {
      "text/html": [
       "<table>\n",
       "    <thead>\n",
       "        <tr>\n",
       "            <th>Average Energy Produced by Any Country</th>\n",
       "        </tr>\n",
       "    </thead>\n",
       "    <tbody>\n",
       "        <tr>\n",
       "            <td>23807.05043906806</td>\n",
       "        </tr>\n",
       "    </tbody>\n",
       "</table>"
      ],
      "text/plain": [
       "[(23807.05043906806,)]"
      ]
     },
     "execution_count": 15,
     "metadata": {},
     "output_type": "execute_result"
    }
   ],
   "source": [
    "%%sql\n",
    "SELECT \n",
    "    AVG(VALUE) AS \"Average Energy Produced by Any Country\"\n",
    "FROM \n",
    "    net_electricity_production;"
   ]
  },
  {
   "cell_type": "markdown",
   "metadata": {},
   "source": [
    "Our output indicates that the average energy produced 23807.05 Gwh. To get a deeper more detailed understanding of the average energy produced, let's calculate the average energy produced by each country. We can do this by using the `GROUP BY` sql clause."
   ]
  },
  {
   "cell_type": "code",
   "execution_count": 16,
   "metadata": {},
   "outputs": [
    {
     "name": "stdout",
     "output_type": "stream",
     "text": [
      " * sqlite:///world_energy_production.db\n",
      "Done.\n"
     ]
    },
    {
     "data": {
      "text/html": [
       "<table>\n",
       "    <thead>\n",
       "        <tr>\n",
       "            <th>COUNTRY</th>\n",
       "            <th>Average Energy Produced</th>\n",
       "        </tr>\n",
       "    </thead>\n",
       "    <tbody>\n",
       "        <tr>\n",
       "            <td>United States</td>\n",
       "            <td>345684.0698335962</td>\n",
       "        </tr>\n",
       "        <tr>\n",
       "            <td>India</td>\n",
       "            <td>122832.76040583337</td>\n",
       "        </tr>\n",
       "        <tr>\n",
       "            <td>Japan</td>\n",
       "            <td>86426.673305282</td>\n",
       "        </tr>\n",
       "        <tr>\n",
       "            <td>Canada</td>\n",
       "            <td>52390.68695096796</td>\n",
       "        </tr>\n",
       "        <tr>\n",
       "            <td>Brazil</td>\n",
       "            <td>49802.2165759375</td>\n",
       "        </tr>\n",
       "        <tr>\n",
       "            <td>Germany</td>\n",
       "            <td>48989.99915834615</td>\n",
       "        </tr>\n",
       "        <tr>\n",
       "            <td>France</td>\n",
       "            <td>44755.72620639104</td>\n",
       "        </tr>\n",
       "        <tr>\n",
       "            <td>Korea</td>\n",
       "            <td>44600.57219200639</td>\n",
       "        </tr>\n",
       "        <tr>\n",
       "            <td>United Kingdom</td>\n",
       "            <td>27132.415068038466</td>\n",
       "        </tr>\n",
       "        <tr>\n",
       "            <td>Mexico</td>\n",
       "            <td>25672.545425961536</td>\n",
       "        </tr>\n",
       "        <tr>\n",
       "            <td>Italy</td>\n",
       "            <td>23368.718428391036</td>\n",
       "        </tr>\n",
       "        <tr>\n",
       "            <td>Spain</td>\n",
       "            <td>22645.204389442308</td>\n",
       "        </tr>\n",
       "        <tr>\n",
       "            <td>Republic of Turkiye</td>\n",
       "            <td>21929.491232012824</td>\n",
       "        </tr>\n",
       "        <tr>\n",
       "            <td>Australia</td>\n",
       "            <td>20409.123487205135</td>\n",
       "        </tr>\n",
       "        <tr>\n",
       "            <td>Sweden</td>\n",
       "            <td>13145.695353961537</td>\n",
       "        </tr>\n",
       "        <tr>\n",
       "            <td>Poland</td>\n",
       "            <td>12679.565585583334</td>\n",
       "        </tr>\n",
       "        <tr>\n",
       "            <td>Norway</td>\n",
       "            <td>11866.654881551282</td>\n",
       "        </tr>\n",
       "        <tr>\n",
       "            <td>Argentina</td>\n",
       "            <td>11618.809789687506</td>\n",
       "        </tr>\n",
       "        <tr>\n",
       "            <td>Netherlands</td>\n",
       "            <td>9210.148038461535</td>\n",
       "        </tr>\n",
       "        <tr>\n",
       "            <td>Belgium</td>\n",
       "            <td>6902.984472993587</td>\n",
       "        </tr>\n",
       "        <tr>\n",
       "            <td>Czech Republic</td>\n",
       "            <td>6558.1529319679485</td>\n",
       "        </tr>\n",
       "        <tr>\n",
       "            <td>Colombia</td>\n",
       "            <td>6443.604375851854</td>\n",
       "        </tr>\n",
       "        <tr>\n",
       "            <td>Chile</td>\n",
       "            <td>6190.010958839744</td>\n",
       "        </tr>\n",
       "        <tr>\n",
       "            <td>Finland</td>\n",
       "            <td>5681.724058782051</td>\n",
       "        </tr>\n",
       "        <tr>\n",
       "            <td>Switzerland</td>\n",
       "            <td>5533.134397634615</td>\n",
       "        </tr>\n",
       "        <tr>\n",
       "            <td>Austria</td>\n",
       "            <td>5506.823024942305</td>\n",
       "        </tr>\n",
       "        <tr>\n",
       "            <td>Romania</td>\n",
       "            <td>4731.940084093751</td>\n",
       "        </tr>\n",
       "        <tr>\n",
       "            <td>Portugal</td>\n",
       "            <td>4352.168827070512</td>\n",
       "        </tr>\n",
       "        <tr>\n",
       "            <td>Greece</td>\n",
       "            <td>4163.708823660255</td>\n",
       "        </tr>\n",
       "        <tr>\n",
       "            <td>New Zealand</td>\n",
       "            <td>3573.2888909358976</td>\n",
       "        </tr>\n",
       "        <tr>\n",
       "            <td>Bulgaria</td>\n",
       "            <td>3508.1903291354156</td>\n",
       "        </tr>\n",
       "        <tr>\n",
       "            <td>Serbia</td>\n",
       "            <td>2914.0057362187495</td>\n",
       "        </tr>\n",
       "        <tr>\n",
       "            <td>Hungary</td>\n",
       "            <td>2608.3299133910264</td>\n",
       "        </tr>\n",
       "        <tr>\n",
       "            <td>Denmark</td>\n",
       "            <td>2577.1539065320508</td>\n",
       "        </tr>\n",
       "        <tr>\n",
       "            <td>Ireland</td>\n",
       "            <td>2421.149213019232</td>\n",
       "        </tr>\n",
       "        <tr>\n",
       "            <td>Slovak Republic</td>\n",
       "            <td>2147.5081435256407</td>\n",
       "        </tr>\n",
       "        <tr>\n",
       "            <td>Iceland</td>\n",
       "            <td>1529.580060301282</td>\n",
       "        </tr>\n",
       "        <tr>\n",
       "            <td>Slovenia</td>\n",
       "            <td>1260.9150969358975</td>\n",
       "        </tr>\n",
       "        <tr>\n",
       "            <td>Croatia</td>\n",
       "            <td>1060.0791665000002</td>\n",
       "        </tr>\n",
       "        <tr>\n",
       "            <td>Costa Rica</td>\n",
       "            <td>1042.4022397916667</td>\n",
       "        </tr>\n",
       "        <tr>\n",
       "            <td>Estonia</td>\n",
       "            <td>787.7028769102567</td>\n",
       "        </tr>\n",
       "        <tr>\n",
       "            <td>Latvia</td>\n",
       "            <td>473.2412123782054</td>\n",
       "        </tr>\n",
       "        <tr>\n",
       "            <td>North Macedonia</td>\n",
       "            <td>439.72411801041653</td>\n",
       "        </tr>\n",
       "        <tr>\n",
       "            <td>Cyprus</td>\n",
       "            <td>395.7078675000001</td>\n",
       "        </tr>\n",
       "        <tr>\n",
       "            <td>Lithuania</td>\n",
       "            <td>364.6033546089743</td>\n",
       "        </tr>\n",
       "        <tr>\n",
       "            <td>Luxembourg</td>\n",
       "            <td>228.63360272435892</td>\n",
       "        </tr>\n",
       "        <tr>\n",
       "            <td>Malta</td>\n",
       "            <td>144.93504112500003</td>\n",
       "        </tr>\n",
       "    </tbody>\n",
       "</table>"
      ],
      "text/plain": [
       "[('United States', 345684.0698335962),\n",
       " ('India', 122832.76040583337),\n",
       " ('Japan', 86426.673305282),\n",
       " ('Canada', 52390.68695096796),\n",
       " ('Brazil', 49802.2165759375),\n",
       " ('Germany', 48989.99915834615),\n",
       " ('France', 44755.72620639104),\n",
       " ('Korea', 44600.57219200639),\n",
       " ('United Kingdom', 27132.415068038466),\n",
       " ('Mexico', 25672.545425961536),\n",
       " ('Italy', 23368.718428391036),\n",
       " ('Spain', 22645.204389442308),\n",
       " ('Republic of Turkiye', 21929.491232012824),\n",
       " ('Australia', 20409.123487205135),\n",
       " ('Sweden', 13145.695353961537),\n",
       " ('Poland', 12679.565585583334),\n",
       " ('Norway', 11866.654881551282),\n",
       " ('Argentina', 11618.809789687506),\n",
       " ('Netherlands', 9210.148038461535),\n",
       " ('Belgium', 6902.984472993587),\n",
       " ('Czech Republic', 6558.1529319679485),\n",
       " ('Colombia', 6443.604375851854),\n",
       " ('Chile', 6190.010958839744),\n",
       " ('Finland', 5681.724058782051),\n",
       " ('Switzerland', 5533.134397634615),\n",
       " ('Austria', 5506.823024942305),\n",
       " ('Romania', 4731.940084093751),\n",
       " ('Portugal', 4352.168827070512),\n",
       " ('Greece', 4163.708823660255),\n",
       " ('New Zealand', 3573.2888909358976),\n",
       " ('Bulgaria', 3508.1903291354156),\n",
       " ('Serbia', 2914.0057362187495),\n",
       " ('Hungary', 2608.3299133910264),\n",
       " ('Denmark', 2577.1539065320508),\n",
       " ('Ireland', 2421.149213019232),\n",
       " ('Slovak Republic', 2147.5081435256407),\n",
       " ('Iceland', 1529.580060301282),\n",
       " ('Slovenia', 1260.9150969358975),\n",
       " ('Croatia', 1060.0791665000002),\n",
       " ('Costa Rica', 1042.4022397916667),\n",
       " ('Estonia', 787.7028769102567),\n",
       " ('Latvia', 473.2412123782054),\n",
       " ('North Macedonia', 439.72411801041653),\n",
       " ('Cyprus', 395.7078675000001),\n",
       " ('Lithuania', 364.6033546089743),\n",
       " ('Luxembourg', 228.63360272435892),\n",
       " ('Malta', 144.93504112500003)]"
      ]
     },
     "execution_count": 16,
     "metadata": {},
     "output_type": "execute_result"
    }
   ],
   "source": [
    "%%sql\n",
    "SELECT \n",
    "    COUNTRY, \n",
    "    AVG(VALUE) AS \"Average Energy Produced\"\n",
    "FROM \n",
    "    net_electricity_production\n",
    "GROUP BY \n",
    "    COUNTRY\n",
    "ORDER BY\n",
    "    \"Average Energy Produced\" DESC;"
   ]
  },
  {
   "cell_type": "markdown",
   "metadata": {},
   "source": [
    "### 2. What is the average energy production by each energy product type?"
   ]
  },
  {
   "cell_type": "markdown",
   "metadata": {},
   "source": [
    "For our second question, to find the average energy produced by energy product type we are going to `SELECT` the `PRODUCT` column and use the `AVG` sql clause on the `VALUE` data column. Since we are trying to find the average energy produced by all energy product types, we are going to use the `world_energy_production` table not the views we created previously."
   ]
  },
  {
   "cell_type": "code",
   "execution_count": 17,
   "metadata": {},
   "outputs": [
    {
     "name": "stdout",
     "output_type": "stream",
     "text": [
      " * sqlite:///world_energy_production.db\n",
      "Done.\n"
     ]
    },
    {
     "data": {
      "text/html": [
       "<table>\n",
       "    <thead>\n",
       "        <tr>\n",
       "            <th>PRODUCT</th>\n",
       "            <th>Average Energy Production by Energy Product</th>\n",
       "        </tr>\n",
       "    </thead>\n",
       "    <tbody>\n",
       "        <tr>\n",
       "            <td>Non-renewables</td>\n",
       "            <td>17385.036553063</td>\n",
       "        </tr>\n",
       "        <tr>\n",
       "            <td>Total combustible fuels</td>\n",
       "            <td>14112.131880687122</td>\n",
       "        </tr>\n",
       "        <tr>\n",
       "            <td>Fossil fuels</td>\n",
       "            <td>13534.914339310237</td>\n",
       "        </tr>\n",
       "        <tr>\n",
       "            <td>Low carbon</td>\n",
       "            <td>10344.296007089953</td>\n",
       "        </tr>\n",
       "        <tr>\n",
       "            <td>Coal</td>\n",
       "            <td>7651.843734438295</td>\n",
       "        </tr>\n",
       "        <tr>\n",
       "            <td>Renewables</td>\n",
       "            <td>6421.921059906902</td>\n",
       "        </tr>\n",
       "        <tr>\n",
       "            <td>Natural gas</td>\n",
       "            <td>6016.722022496549</td>\n",
       "        </tr>\n",
       "        <tr>\n",
       "            <td>Nuclear</td>\n",
       "            <td>5547.833900265679</td>\n",
       "        </tr>\n",
       "        <tr>\n",
       "            <td>Hydro</td>\n",
       "            <td>3736.821054701924</td>\n",
       "        </tr>\n",
       "        <tr>\n",
       "            <td>Wind</td>\n",
       "            <td>1448.9028199678087</td>\n",
       "        </tr>\n",
       "        <tr>\n",
       "            <td>Distribution losses</td>\n",
       "            <td>1298.9023618750432</td>\n",
       "        </tr>\n",
       "        <tr>\n",
       "            <td>Total imports</td>\n",
       "            <td>1113.0784705476697</td>\n",
       "        </tr>\n",
       "        <tr>\n",
       "            <td>Total exports</td>\n",
       "            <td>1101.4612854533714</td>\n",
       "        </tr>\n",
       "        <tr>\n",
       "            <td>Other renewables aggregated</td>\n",
       "            <td>744.9085335126142</td>\n",
       "        </tr>\n",
       "        <tr>\n",
       "            <td>Others</td>\n",
       "            <td>712.8957274823401</td>\n",
       "        </tr>\n",
       "        <tr>\n",
       "            <td>Combustible renewables</td>\n",
       "            <td>661.5828006095494</td>\n",
       "        </tr>\n",
       "        <tr>\n",
       "            <td>Solar</td>\n",
       "            <td>598.7622537795668</td>\n",
       "        </tr>\n",
       "        <tr>\n",
       "            <td>Oil</td>\n",
       "            <td>544.5036021454885</td>\n",
       "        </tr>\n",
       "        <tr>\n",
       "            <td>Used for pumped storage</td>\n",
       "            <td>217.68973765340846</td>\n",
       "        </tr>\n",
       "        <tr>\n",
       "            <td>Geothermal</td>\n",
       "            <td>148.64709184766573</td>\n",
       "        </tr>\n",
       "        <tr>\n",
       "            <td>Other combustible non-renewables</td>\n",
       "            <td>117.16915152913438</td>\n",
       "        </tr>\n",
       "        <tr>\n",
       "            <td>Not specified</td>\n",
       "            <td>97.89080013130743</td>\n",
       "        </tr>\n",
       "        <tr>\n",
       "            <td>Other renewables</td>\n",
       "            <td>4.119405638050189</td>\n",
       "        </tr>\n",
       "        <tr>\n",
       "            <td>Electricity trade</td>\n",
       "            <td>-15.292224353432085</td>\n",
       "        </tr>\n",
       "    </tbody>\n",
       "</table>"
      ],
      "text/plain": [
       "[('Non-renewables', 17385.036553063),\n",
       " ('Total combustible fuels', 14112.131880687122),\n",
       " ('Fossil fuels', 13534.914339310237),\n",
       " ('Low carbon', 10344.296007089953),\n",
       " ('Coal', 7651.843734438295),\n",
       " ('Renewables', 6421.921059906902),\n",
       " ('Natural gas', 6016.722022496549),\n",
       " ('Nuclear', 5547.833900265679),\n",
       " ('Hydro', 3736.821054701924),\n",
       " ('Wind', 1448.9028199678087),\n",
       " ('Distribution losses', 1298.9023618750432),\n",
       " ('Total imports', 1113.0784705476697),\n",
       " ('Total exports', 1101.4612854533714),\n",
       " ('Other renewables aggregated', 744.9085335126142),\n",
       " ('Others', 712.8957274823401),\n",
       " ('Combustible renewables', 661.5828006095494),\n",
       " ('Solar', 598.7622537795668),\n",
       " ('Oil', 544.5036021454885),\n",
       " ('Used for pumped storage', 217.68973765340846),\n",
       " ('Geothermal', 148.64709184766573),\n",
       " ('Other combustible non-renewables', 117.16915152913438),\n",
       " ('Not specified', 97.89080013130743),\n",
       " ('Other renewables', 4.119405638050189),\n",
       " ('Electricity trade', -15.292224353432085)]"
      ]
     },
     "execution_count": 17,
     "metadata": {},
     "output_type": "execute_result"
    }
   ],
   "source": [
    "%%sql\n",
    "SELECT \n",
    "    PRODUCT, \n",
    "    AVG(VALUE) AS \"Average Energy Production by Energy Product\"\n",
    "FROM \n",
    "    world_energy_production\n",
    "WHERE\n",
    "    PRODUCT NOT IN (\n",
    "        \"Electricity supplied\",\n",
    "        \"Net electricity production\",\n",
    "        \"Final consumption\"\n",
    "    )\n",
    "    AND COUNTRY NOT LIKE '%OECD%'\n",
    "    AND COUNTRY NOT LIKE '%IEA%'\n",
    "GROUP BY \n",
    "    PRODUCT\n",
    "ORDER BY \n",
    "    \"Average Energy Production by Energy Product\" DESC;"
   ]
  },
  {
   "cell_type": "markdown",
   "metadata": {},
   "source": [
    "Our output shows us that \"Non-renewables\", \"Total combustible fuels\", and \"Fossil fuels\" are the highest on average energy producers by energy product type."
   ]
  },
  {
   "cell_type": "markdown",
   "metadata": {},
   "source": [
    "### 3. Which countries have produced the most energy and which countries have produced the least?"
   ]
  },
  {
   "cell_type": "markdown",
   "metadata": {},
   "source": [
    "We will start by first `SELECT` the `COUNTRY` data column and use the `SUM` sql clause on the `VALUE` data column to calculate the total energy produced by each country. We will then `GROUP BY` `COUNTRY` and `ORDER BY` \"Total Energy Production by Country\" in `DESC` order."
   ]
  },
  {
   "cell_type": "code",
   "execution_count": 18,
   "metadata": {},
   "outputs": [
    {
     "name": "stdout",
     "output_type": "stream",
     "text": [
      " * sqlite:///world_energy_production.db\n",
      "Done.\n"
     ]
    },
    {
     "data": {
      "text/html": [
       "<table>\n",
       "    <thead>\n",
       "        <tr>\n",
       "            <th>COUNTRY</th>\n",
       "            <th>Total Energy Production by Country</th>\n",
       "        </tr>\n",
       "    </thead>\n",
       "    <tbody>\n",
       "        <tr>\n",
       "            <td>United States</td>\n",
       "            <td>53926714.894041</td>\n",
       "        </tr>\n",
       "        <tr>\n",
       "            <td>Japan</td>\n",
       "            <td>13482561.035623994</td>\n",
       "        </tr>\n",
       "        <tr>\n",
       "            <td>India</td>\n",
       "            <td>11791944.998960003</td>\n",
       "        </tr>\n",
       "    </tbody>\n",
       "</table>"
      ],
      "text/plain": [
       "[('United States', 53926714.894041),\n",
       " ('Japan', 13482561.035623994),\n",
       " ('India', 11791944.998960003)]"
      ]
     },
     "execution_count": 18,
     "metadata": {},
     "output_type": "execute_result"
    }
   ],
   "source": [
    "%%sql\n",
    "SELECT \n",
    "    COUNTRY, \n",
    "    SUM(VALUE) AS \"Total Energy Production by Country\"\n",
    "FROM \n",
    "    net_electricity_production\n",
    "GROUP BY \n",
    "    COUNTRY\n",
    "ORDER BY \n",
    "    \"Total Energy Production by Country\" DESC\n",
    "LIMIT 3;"
   ]
  },
  {
   "cell_type": "markdown",
   "metadata": {},
   "source": [
    "From our query we can see that the United States, Japan, and India are the countries who produced the most energy."
   ]
  },
  {
   "cell_type": "markdown",
   "metadata": {},
   "source": [
    "For the second part of our question, we will follow the same sql query from before, but we will change the `ORDER BY` \"Total Energy Production by Country\" to `ASC` order."
   ]
  },
  {
   "cell_type": "code",
   "execution_count": 19,
   "metadata": {},
   "outputs": [
    {
     "name": "stdout",
     "output_type": "stream",
     "text": [
      " * sqlite:///world_energy_production.db\n",
      "Done.\n"
     ]
    },
    {
     "data": {
      "text/html": [
       "<table>\n",
       "    <thead>\n",
       "        <tr>\n",
       "            <th>COUNTRY</th>\n",
       "            <th>Total Energy Production by Country</th>\n",
       "        </tr>\n",
       "    </thead>\n",
       "    <tbody>\n",
       "        <tr>\n",
       "            <td>Malta</td>\n",
       "            <td>13913.763948000003</td>\n",
       "        </tr>\n",
       "        <tr>\n",
       "            <td>Costa Rica</td>\n",
       "            <td>25017.653755000003</td>\n",
       "        </tr>\n",
       "        <tr>\n",
       "            <td>Luxembourg</td>\n",
       "            <td>35666.84202499999</td>\n",
       "        </tr>\n",
       "    </tbody>\n",
       "</table>"
      ],
      "text/plain": [
       "[('Malta', 13913.763948000003),\n",
       " ('Costa Rica', 25017.653755000003),\n",
       " ('Luxembourg', 35666.84202499999)]"
      ]
     },
     "execution_count": 19,
     "metadata": {},
     "output_type": "execute_result"
    }
   ],
   "source": [
    "%%sql\n",
    "SELECT \n",
    "    COUNTRY, \n",
    "    SUM(VALUE) AS \"Total Energy Production by Country\"\n",
    "FROM \n",
    "    net_electricity_production\n",
    "GROUP BY \n",
    "    COUNTRY\n",
    "ORDER BY \n",
    "    \"Total Energy Production by Country\" ASC\n",
    "LIMIT 3;"
   ]
  },
  {
   "cell_type": "markdown",
   "metadata": {},
   "source": [
    "Our output shows us that Malta, Costa Rica, and Luxembourg are the countries with the lowest energy produced."
   ]
  },
  {
   "cell_type": "markdown",
   "metadata": {},
   "source": [
    "### 4. What is the minimum and maximum energy produced by any country in any given month and year?"
   ]
  },
  {
   "cell_type": "markdown",
   "metadata": {},
   "source": [
    "To find the minimum energy produced by any country in any given month and year we are going to `SELECT` the `COUNTRY`,`YEAR`,`MONTH_NAME`, and use the `MIN` SQL clause function on the `VALUE` data column. Let's `GROUP BY` and `COUNTRY`,`YEAR`,`MONTH_NAME`. There are two ways to find the minimum energy produced one using the `HAVING` sql clause and another using a simple `ORDER BY` and `LIMIT` sql clauses."
   ]
  },
  {
   "cell_type": "code",
   "execution_count": 20,
   "metadata": {},
   "outputs": [
    {
     "name": "stdout",
     "output_type": "stream",
     "text": [
      " * sqlite:///world_energy_production.db\n",
      "Done.\n"
     ]
    },
    {
     "data": {
      "text/html": [
       "<table>\n",
       "    <thead>\n",
       "        <tr>\n",
       "            <th>COUNTRY</th>\n",
       "            <th>YEAR</th>\n",
       "            <th>MONTH_NAME</th>\n",
       "            <th>Lowest Energy Production</th>\n",
       "        </tr>\n",
       "    </thead>\n",
       "    <tbody>\n",
       "        <tr>\n",
       "            <td>Malta</td>\n",
       "            <td>2015</td>\n",
       "            <td>November</td>\n",
       "            <td>39.981</td>\n",
       "        </tr>\n",
       "    </tbody>\n",
       "</table>"
      ],
      "text/plain": [
       "[('Malta', 2015, 'November', 39.981)]"
      ]
     },
     "execution_count": 20,
     "metadata": {},
     "output_type": "execute_result"
    }
   ],
   "source": [
    "%%sql\n",
    "SELECT\n",
    "    COUNTRY,\n",
    "    YEAR,\n",
    "    MONTH_NAME,\n",
    "    MIN(VALUE) AS \"Lowest Energy Production\"\n",
    "FROM\n",
    "    net_electricity_production\n",
    "GROUP BY\n",
    "    COUNTRY,\n",
    "    YEAR, \n",
    "    MONTH_NAME\n",
    "HAVING\n",
    "    MIN(VALUE) = (\n",
    "        SELECT MIN(VALUE)\n",
    "        FROM net_electricity_production\n",
    "    );\n"
   ]
  },
  {
   "cell_type": "code",
   "execution_count": 21,
   "metadata": {},
   "outputs": [
    {
     "name": "stdout",
     "output_type": "stream",
     "text": [
      " * sqlite:///world_energy_production.db\n",
      "Done.\n"
     ]
    },
    {
     "data": {
      "text/html": [
       "<table>\n",
       "    <thead>\n",
       "        <tr>\n",
       "            <th>COUNTRY</th>\n",
       "            <th>YEAR</th>\n",
       "            <th>MONTH_NAME</th>\n",
       "            <th>Lowest Energy Production</th>\n",
       "        </tr>\n",
       "    </thead>\n",
       "    <tbody>\n",
       "        <tr>\n",
       "            <td>Malta</td>\n",
       "            <td>2015</td>\n",
       "            <td>November</td>\n",
       "            <td>39.981</td>\n",
       "        </tr>\n",
       "    </tbody>\n",
       "</table>"
      ],
      "text/plain": [
       "[('Malta', 2015, 'November', 39.981)]"
      ]
     },
     "execution_count": 21,
     "metadata": {},
     "output_type": "execute_result"
    }
   ],
   "source": [
    "%%sql\n",
    "SELECT\n",
    "    COUNTRY,\n",
    "    YEAR,\n",
    "    MONTH_NAME,\n",
    "    MIN(VALUE) AS \"Lowest Energy Production\"\n",
    "FROM\n",
    "    net_electricity_production\n",
    "GROUP BY\n",
    "    COUNTRY,\n",
    "    YEAR,\n",
    "    MONTH_NAME\n",
    "ORDER BY\n",
    "    \"Lowest Energy Production\" ASC\n",
    "LIMIT 1;"
   ]
  },
  {
   "cell_type": "markdown",
   "metadata": {},
   "source": [
    "We see that the lowest enegry produced by any given country in any given month and year is Malta in November of 2015."
   ]
  },
  {
   "cell_type": "code",
   "execution_count": 22,
   "metadata": {},
   "outputs": [
    {
     "name": "stdout",
     "output_type": "stream",
     "text": [
      " * sqlite:///world_energy_production.db\n",
      "Done.\n"
     ]
    },
    {
     "data": {
      "text/html": [
       "<table>\n",
       "    <thead>\n",
       "        <tr>\n",
       "            <th>COUNTRY</th>\n",
       "            <th>YEAR</th>\n",
       "            <th>MONTH_NAME</th>\n",
       "            <th>Highest Energy Production</th>\n",
       "        </tr>\n",
       "    </thead>\n",
       "    <tbody>\n",
       "        <tr>\n",
       "            <td>United States</td>\n",
       "            <td>2022</td>\n",
       "            <td>July</td>\n",
       "            <td>432965.975804</td>\n",
       "        </tr>\n",
       "    </tbody>\n",
       "</table>"
      ],
      "text/plain": [
       "[('United States', 2022, 'July', 432965.975804)]"
      ]
     },
     "execution_count": 22,
     "metadata": {},
     "output_type": "execute_result"
    }
   ],
   "source": [
    "%%sql\n",
    "SELECT\n",
    "    COUNTRY,\n",
    "    YEAR,\n",
    "    MONTH_NAME,\n",
    "    MAX(VALUE) AS \"Highest Energy Production\"\n",
    "FROM\n",
    "    net_electricity_production\n",
    "GROUP BY\n",
    "    COUNTRY,\n",
    "    YEAR,\n",
    "    MONTH_NAME\n",
    "HAVING\n",
    "    MAX(VALUE) = (\n",
    "        SELECT MAX(VALUE)\n",
    "        FROM net_electricity_production\n",
    "    );"
   ]
  },
  {
   "cell_type": "code",
   "execution_count": 23,
   "metadata": {},
   "outputs": [
    {
     "name": "stdout",
     "output_type": "stream",
     "text": [
      " * sqlite:///world_energy_production.db\n",
      "Done.\n"
     ]
    },
    {
     "data": {
      "text/html": [
       "<table>\n",
       "    <thead>\n",
       "        <tr>\n",
       "            <th>COUNTRY</th>\n",
       "            <th>YEAR</th>\n",
       "            <th>MONTH_NAME</th>\n",
       "            <th>Highest Energy Production</th>\n",
       "        </tr>\n",
       "    </thead>\n",
       "    <tbody>\n",
       "        <tr>\n",
       "            <td>United States</td>\n",
       "            <td>2022</td>\n",
       "            <td>July</td>\n",
       "            <td>432965.975804</td>\n",
       "        </tr>\n",
       "    </tbody>\n",
       "</table>"
      ],
      "text/plain": [
       "[('United States', 2022, 'July', 432965.975804)]"
      ]
     },
     "execution_count": 23,
     "metadata": {},
     "output_type": "execute_result"
    }
   ],
   "source": [
    "%%sql\n",
    "SELECT\n",
    "    COUNTRY,\n",
    "    YEAR,\n",
    "    MONTH_NAME,\n",
    "    MAX(VALUE) AS \"Highest Energy Production\"\n",
    "FROM\n",
    "    net_electricity_production\n",
    "GROUP BY\n",
    "    COUNTRY,\n",
    "    YEAR,\n",
    "    MONTH_NAME\n",
    "ORDER BY\n",
    "    \"Highest Energy Production\" DESC\n",
    "LIMIT 1;"
   ]
  },
  {
   "cell_type": "markdown",
   "metadata": {},
   "source": [
    "For the highest energy produced we get the United States in July of 2022."
   ]
  },
  {
   "cell_type": "markdown",
   "metadata": {},
   "source": [
    "### 5. Which years had the lowest and highest energy production and demand?"
   ]
  },
  {
   "cell_type": "markdown",
   "metadata": {},
   "source": [
    "To answer this question we are going to follow a similar process that we have done for other questions. We will `SELECT` the `YEAR` data column and use the `SUM` sql clause function to calculate the total energy production and energy demand by year."
   ]
  },
  {
   "cell_type": "code",
   "execution_count": 24,
   "metadata": {},
   "outputs": [
    {
     "name": "stdout",
     "output_type": "stream",
     "text": [
      " * sqlite:///world_energy_production.db\n",
      "Done.\n"
     ]
    },
    {
     "data": {
      "text/html": [
       "<table>\n",
       "    <thead>\n",
       "        <tr>\n",
       "            <th>YEAR</th>\n",
       "            <th>Total Energy Production by Year</th>\n",
       "        </tr>\n",
       "    </thead>\n",
       "    <tbody>\n",
       "        <tr>\n",
       "            <td>2013</td>\n",
       "            <td>10391693.063000008</td>\n",
       "        </tr>\n",
       "        <tr>\n",
       "            <td>2012</td>\n",
       "            <td>10392343.528999995</td>\n",
       "        </tr>\n",
       "        <tr>\n",
       "            <td>2011</td>\n",
       "            <td>10398598.024000004</td>\n",
       "        </tr>\n",
       "    </tbody>\n",
       "</table>"
      ],
      "text/plain": [
       "[(2013, 10391693.063000008),\n",
       " (2012, 10392343.528999995),\n",
       " (2011, 10398598.024000004)]"
      ]
     },
     "execution_count": 24,
     "metadata": {},
     "output_type": "execute_result"
    }
   ],
   "source": [
    "%%sql\n",
    "SELECT \n",
    "    YEAR,\n",
    "    SUM(VALUE) AS \"Total Energy Production by Year\"\n",
    "FROM \n",
    "    net_electricity_production\n",
    "GROUP BY \n",
    "    YEAR\n",
    "ORDER BY\n",
    "    \"Total Energy Production by Year\" ASC\n",
    "LIMIT 3;"
   ]
  },
  {
   "cell_type": "markdown",
   "metadata": {},
   "source": [
    "The years with the lowestt energy production are 2013, 2012, and 2011."
   ]
  },
  {
   "cell_type": "code",
   "execution_count": 25,
   "metadata": {},
   "outputs": [
    {
     "name": "stdout",
     "output_type": "stream",
     "text": [
      " * sqlite:///world_energy_production.db\n",
      "Done.\n"
     ]
    },
    {
     "data": {
      "text/html": [
       "<table>\n",
       "    <thead>\n",
       "        <tr>\n",
       "            <th>YEAR</th>\n",
       "            <th>Total Energy Production by Year</th>\n",
       "        </tr>\n",
       "    </thead>\n",
       "    <tbody>\n",
       "        <tr>\n",
       "            <td>2022</td>\n",
       "            <td>13384563.473613016</td>\n",
       "        </tr>\n",
       "        <tr>\n",
       "            <td>2021</td>\n",
       "            <td>13284846.391359994</td>\n",
       "        </tr>\n",
       "        <tr>\n",
       "            <td>2018</td>\n",
       "            <td>13211383.110575994</td>\n",
       "        </tr>\n",
       "    </tbody>\n",
       "</table>"
      ],
      "text/plain": [
       "[(2022, 13384563.473613016),\n",
       " (2021, 13284846.391359994),\n",
       " (2018, 13211383.110575994)]"
      ]
     },
     "execution_count": 25,
     "metadata": {},
     "output_type": "execute_result"
    }
   ],
   "source": [
    "%%sql\n",
    "SELECT \n",
    "    YEAR,\n",
    "    SUM(VALUE) AS \"Total Energy Production by Year\"\n",
    "FROM \n",
    "    net_electricity_production\n",
    "GROUP BY \n",
    "    YEAR\n",
    "ORDER BY\n",
    "    \"Total Energy Production by Year\" DESC\n",
    "LIMIT 3;"
   ]
  },
  {
   "cell_type": "markdown",
   "metadata": {},
   "source": [
    "The years with the highest energy production are 2022, 2021, and 2018."
   ]
  },
  {
   "cell_type": "code",
   "execution_count": 26,
   "metadata": {},
   "outputs": [
    {
     "name": "stdout",
     "output_type": "stream",
     "text": [
      " * sqlite:///world_energy_production.db\n",
      "Done.\n"
     ]
    },
    {
     "data": {
      "text/html": [
       "<table>\n",
       "    <thead>\n",
       "        <tr>\n",
       "            <th>YEAR</th>\n",
       "            <th>Total Energy Demand by Year</th>\n",
       "        </tr>\n",
       "    </thead>\n",
       "    <tbody>\n",
       "        <tr>\n",
       "            <td>2012</td>\n",
       "            <td>9618431.41899999</td>\n",
       "        </tr>\n",
       "        <tr>\n",
       "            <td>2011</td>\n",
       "            <td>9641062.005999997</td>\n",
       "        </tr>\n",
       "        <tr>\n",
       "            <td>2013</td>\n",
       "            <td>9645713.755999997</td>\n",
       "        </tr>\n",
       "    </tbody>\n",
       "</table>"
      ],
      "text/plain": [
       "[(2012, 9618431.41899999),\n",
       " (2011, 9641062.005999997),\n",
       " (2013, 9645713.755999997)]"
      ]
     },
     "execution_count": 26,
     "metadata": {},
     "output_type": "execute_result"
    }
   ],
   "source": [
    "%%sql\n",
    "SELECT \n",
    "    YEAR,\n",
    "    SUM(VALUE) AS \"Total Energy Demand by Year\"\n",
    "FROM \n",
    "    energy_demand\n",
    "GROUP BY \n",
    "    YEAR\n",
    "ORDER BY\n",
    "    \"Total Energy Demand by Year\" ASC\n",
    "LIMIT 3;"
   ]
  },
  {
   "cell_type": "markdown",
   "metadata": {},
   "source": [
    "The years with the lowest energy demand are 2012, 2011, and 2013."
   ]
  },
  {
   "cell_type": "code",
   "execution_count": 27,
   "metadata": {},
   "outputs": [
    {
     "name": "stdout",
     "output_type": "stream",
     "text": [
      " * sqlite:///world_energy_production.db\n",
      "Done.\n"
     ]
    },
    {
     "data": {
      "text/html": [
       "<table>\n",
       "    <thead>\n",
       "        <tr>\n",
       "            <th>YEAR</th>\n",
       "            <th>Total Energy Demand by Year</th>\n",
       "        </tr>\n",
       "    </thead>\n",
       "    <tbody>\n",
       "        <tr>\n",
       "            <td>2018</td>\n",
       "            <td>12490092.995364007</td>\n",
       "        </tr>\n",
       "        <tr>\n",
       "            <td>2019</td>\n",
       "            <td>12414583.651425006</td>\n",
       "        </tr>\n",
       "        <tr>\n",
       "            <td>2020</td>\n",
       "            <td>12149548.372499991</td>\n",
       "        </tr>\n",
       "    </tbody>\n",
       "</table>"
      ],
      "text/plain": [
       "[(2018, 12490092.995364007),\n",
       " (2019, 12414583.651425006),\n",
       " (2020, 12149548.372499991)]"
      ]
     },
     "execution_count": 27,
     "metadata": {},
     "output_type": "execute_result"
    }
   ],
   "source": [
    "%%sql\n",
    "SELECT \n",
    "    YEAR,\n",
    "    SUM(VALUE) AS \"Total Energy Demand by Year\"\n",
    "FROM \n",
    "    energy_demand\n",
    "GROUP BY \n",
    "    YEAR\n",
    "ORDER BY\n",
    "    \"Total Energy Demand by Year\" DESC\n",
    "LIMIT 3;"
   ]
  },
  {
   "cell_type": "markdown",
   "metadata": {},
   "source": [
    "The years with the highest energy demand are 2018, 2019, and 2020."
   ]
  },
  {
   "cell_type": "markdown",
   "metadata": {},
   "source": [
    "### 6. How does energy production and demand change from season to season?"
   ]
  },
  {
   "cell_type": "markdown",
   "metadata": {},
   "source": [
    "For this question we are going to identify the `Season` of each record in our data. To do this we are going to use the `CASE` sql clause to catergorize each record in our data into either Winter, Spring, Summer, Fall or Unknown."
   ]
  },
  {
   "cell_type": "code",
   "execution_count": 28,
   "metadata": {},
   "outputs": [
    {
     "name": "stdout",
     "output_type": "stream",
     "text": [
      " * sqlite:///world_energy_production.db\n",
      "Done.\n"
     ]
    },
    {
     "data": {
      "text/html": [
       "<table>\n",
       "    <thead>\n",
       "        <tr>\n",
       "            <th>Season</th>\n",
       "            <th>Average Energy Production</th>\n",
       "        </tr>\n",
       "    </thead>\n",
       "    <tbody>\n",
       "        <tr>\n",
       "            <td>Summer</td>\n",
       "            <td>24783.664107862623</td>\n",
       "        </tr>\n",
       "        <tr>\n",
       "            <td>Winter</td>\n",
       "            <td>24707.871789814388</td>\n",
       "        </tr>\n",
       "        <tr>\n",
       "            <td>Fall</td>\n",
       "            <td>22964.991708214948</td>\n",
       "        </tr>\n",
       "        <tr>\n",
       "            <td>Spring</td>\n",
       "            <td>22771.674150380313</td>\n",
       "        </tr>\n",
       "    </tbody>\n",
       "</table>"
      ],
      "text/plain": [
       "[('Summer', 24783.664107862623),\n",
       " ('Winter', 24707.871789814388),\n",
       " ('Fall', 22964.991708214948),\n",
       " ('Spring', 22771.674150380313)]"
      ]
     },
     "execution_count": 28,
     "metadata": {},
     "output_type": "execute_result"
    }
   ],
   "source": [
    "%%sql\n",
    "SELECT\n",
    "    CASE\n",
    "        WHEN MONTH IN (12, 1, 2) THEN 'Winter'\n",
    "        WHEN MONTH IN (3, 4, 5) THEN 'Spring'\n",
    "        WHEN MONTH IN (6, 7, 8) THEN 'Summer'\n",
    "        WHEN MONTH IN (9, 10, 11) THEN 'Fall'\n",
    "        ELSE 'Unknown'\n",
    "    END AS Season,\n",
    "    AVG(VALUE) AS \"Average Energy Production\"\n",
    "FROM\n",
    "    net_electricity_production\n",
    "GROUP BY\n",
    "    Season\n",
    "ORDER BY\n",
    "    \"Average Energy Production\" DESC;"
   ]
  },
  {
   "cell_type": "markdown",
   "metadata": {},
   "source": [
    "We see that Summer and Winter are the seasons with the highest energy production."
   ]
  },
  {
   "cell_type": "code",
   "execution_count": 29,
   "metadata": {},
   "outputs": [
    {
     "name": "stdout",
     "output_type": "stream",
     "text": [
      " * sqlite:///world_energy_production.db\n",
      "Done.\n"
     ]
    },
    {
     "data": {
      "text/html": [
       "<table>\n",
       "    <thead>\n",
       "        <tr>\n",
       "            <th>Season</th>\n",
       "            <th>Average Energy Demand</th>\n",
       "        </tr>\n",
       "    </thead>\n",
       "    <tbody>\n",
       "        <tr>\n",
       "            <td>Winter</td>\n",
       "            <td>22867.044367137438</td>\n",
       "        </tr>\n",
       "        <tr>\n",
       "            <td>Summer</td>\n",
       "            <td>22848.179884756217</td>\n",
       "        </tr>\n",
       "        <tr>\n",
       "            <td>Fall</td>\n",
       "            <td>21261.593288596378</td>\n",
       "        </tr>\n",
       "        <tr>\n",
       "            <td>Spring</td>\n",
       "            <td>20974.91436095521</td>\n",
       "        </tr>\n",
       "    </tbody>\n",
       "</table>"
      ],
      "text/plain": [
       "[('Winter', 22867.044367137438),\n",
       " ('Summer', 22848.179884756217),\n",
       " ('Fall', 21261.593288596378),\n",
       " ('Spring', 20974.91436095521)]"
      ]
     },
     "execution_count": 29,
     "metadata": {},
     "output_type": "execute_result"
    }
   ],
   "source": [
    "%%sql\n",
    "SELECT\n",
    "    CASE\n",
    "        WHEN MONTH IN (12, 1, 2) THEN 'Winter'\n",
    "        WHEN MONTH IN (3, 4, 5) THEN 'Spring'\n",
    "        WHEN MONTH IN (6, 7, 8) THEN 'Summer'\n",
    "        WHEN MONTH IN (9, 10, 11) THEN 'Fall'\n",
    "        ELSE 'Unknown'\n",
    "    END AS Season,\n",
    "    AVG(VALUE) AS \"Average Energy Demand\"\n",
    "FROM\n",
    "    energy_demand\n",
    "GROUP BY\n",
    "    Season\n",
    "ORDER BY\n",
    "    \"Average Energy Demand\" DESC;"
   ]
  },
  {
   "cell_type": "markdown",
   "metadata": {},
   "source": [
    "The energy demand is highest in winter and summer seasons on average."
   ]
  },
  {
   "cell_type": "markdown",
   "metadata": {},
   "source": [
    "### 7. How has the energy production of renewable energy products changed over time?"
   ]
  },
  {
   "cell_type": "markdown",
   "metadata": {},
   "source": [
    "For this question we will not be using the views we creater earlier in the project. We will `SELECT` the `YEAR`,`PRODUCT` and use the `SUM` sql clause function on the `VALUE` data column to find the total energy production by year. Additionally, we will use the `WHERE` sql clause to condition on energy product types renewables."
   ]
  },
  {
   "cell_type": "code",
   "execution_count": 30,
   "metadata": {},
   "outputs": [
    {
     "name": "stdout",
     "output_type": "stream",
     "text": [
      " * sqlite:///world_energy_production.db\n",
      "Done.\n"
     ]
    },
    {
     "data": {
      "text/html": [
       "<table>\n",
       "    <thead>\n",
       "        <tr>\n",
       "            <th>YEAR</th>\n",
       "            <th>PRODUCT</th>\n",
       "            <th>Total Energy Production by Year</th>\n",
       "        </tr>\n",
       "    </thead>\n",
       "    <tbody>\n",
       "        <tr>\n",
       "            <td>2010</td>\n",
       "            <td>Renewables</td>\n",
       "            <td>7798026.598000009</td>\n",
       "        </tr>\n",
       "        <tr>\n",
       "            <td>2011</td>\n",
       "            <td>Renewables</td>\n",
       "            <td>8301214.965000001</td>\n",
       "        </tr>\n",
       "        <tr>\n",
       "            <td>2012</td>\n",
       "            <td>Renewables</td>\n",
       "            <td>8722377.841000002</td>\n",
       "        </tr>\n",
       "        <tr>\n",
       "            <td>2013</td>\n",
       "            <td>Renewables</td>\n",
       "            <td>9240592.922999997</td>\n",
       "        </tr>\n",
       "        <tr>\n",
       "            <td>2014</td>\n",
       "            <td>Renewables</td>\n",
       "            <td>9647251.412000015</td>\n",
       "        </tr>\n",
       "        <tr>\n",
       "            <td>2015</td>\n",
       "            <td>Renewables</td>\n",
       "            <td>10777211.974934999</td>\n",
       "        </tr>\n",
       "        <tr>\n",
       "            <td>2016</td>\n",
       "            <td>Renewables</td>\n",
       "            <td>11344050.159824984</td>\n",
       "        </tr>\n",
       "        <tr>\n",
       "            <td>2017</td>\n",
       "            <td>Renewables</td>\n",
       "            <td>11916530.917441</td>\n",
       "        </tr>\n",
       "        <tr>\n",
       "            <td>2018</td>\n",
       "            <td>Renewables</td>\n",
       "            <td>12475469.534208994</td>\n",
       "        </tr>\n",
       "        <tr>\n",
       "            <td>2019</td>\n",
       "            <td>Renewables</td>\n",
       "            <td>12918149.488351999</td>\n",
       "        </tr>\n",
       "        <tr>\n",
       "            <td>2020</td>\n",
       "            <td>Renewables</td>\n",
       "            <td>13727148.670352004</td>\n",
       "        </tr>\n",
       "        <tr>\n",
       "            <td>2021</td>\n",
       "            <td>Renewables</td>\n",
       "            <td>14237917.280250004</td>\n",
       "        </tr>\n",
       "        <tr>\n",
       "            <td>2022</td>\n",
       "            <td>Renewables</td>\n",
       "            <td>15079760.03817</td>\n",
       "        </tr>\n",
       "    </tbody>\n",
       "</table>"
      ],
      "text/plain": [
       "[(2010, 'Renewables', 7798026.598000009),\n",
       " (2011, 'Renewables', 8301214.965000001),\n",
       " (2012, 'Renewables', 8722377.841000002),\n",
       " (2013, 'Renewables', 9240592.922999997),\n",
       " (2014, 'Renewables', 9647251.412000015),\n",
       " (2015, 'Renewables', 10777211.974934999),\n",
       " (2016, 'Renewables', 11344050.159824984),\n",
       " (2017, 'Renewables', 11916530.917441),\n",
       " (2018, 'Renewables', 12475469.534208994),\n",
       " (2019, 'Renewables', 12918149.488351999),\n",
       " (2020, 'Renewables', 13727148.670352004),\n",
       " (2021, 'Renewables', 14237917.280250004),\n",
       " (2022, 'Renewables', 15079760.03817)]"
      ]
     },
     "execution_count": 30,
     "metadata": {},
     "output_type": "execute_result"
    }
   ],
   "source": [
    "%%sql\n",
    "SELECT\n",
    "    YEAR,\n",
    "    PRODUCT,\n",
    "    SUM(VALUE) AS \"Total Energy Production by Year\"\n",
    "FROM\n",
    "    world_energy_production\n",
    "WHERE\n",
    "    PRODUCT = \"Renewables\"\n",
    "GROUP BY\n",
    "    YEAR;"
   ]
  },
  {
   "cell_type": "markdown",
   "metadata": {},
   "source": [
    "From our query we see that the energy production of renewables increases by each year."
   ]
  },
  {
   "cell_type": "markdown",
   "metadata": {},
   "source": [
    "### 8. How did the covid-19 pandemic change energy production and demand?"
   ]
  },
  {
   "cell_type": "markdown",
   "metadata": {},
   "source": [
    "Let's answer our last question by first using the `SELECT` sql clause on the `YEAR` and use the `AVG` sql clause function on the `VALUE` data column to find the average energy production by year and month. Additionally, we will use the `WHERE` sql clause to condition on the year of 2020 and 2021. Within the `WHERE` sql clause I am going to add a `AND` condition sql clause to get the records in our data where the `YEAR` is between 2019 or 2022."
   ]
  },
  {
   "cell_type": "code",
   "execution_count": 31,
   "metadata": {},
   "outputs": [
    {
     "name": "stdout",
     "output_type": "stream",
     "text": [
      " * sqlite:///world_energy_production.db\n",
      "Done.\n"
     ]
    },
    {
     "data": {
      "text/html": [
       "<table>\n",
       "    <thead>\n",
       "        <tr>\n",
       "            <th>YEAR</th>\n",
       "            <th>Average Energy Production by Year and Month</th>\n",
       "        </tr>\n",
       "    </thead>\n",
       "    <tbody>\n",
       "        <tr>\n",
       "            <td>2019</td>\n",
       "            <td>23714.294974855053</td>\n",
       "        </tr>\n",
       "        <tr>\n",
       "            <td>2020</td>\n",
       "            <td>23150.14885775905</td>\n",
       "        </tr>\n",
       "        <tr>\n",
       "            <td>2021</td>\n",
       "            <td>23554.6921832624</td>\n",
       "        </tr>\n",
       "        <tr>\n",
       "            <td>2022</td>\n",
       "            <td>23731.495520590455</td>\n",
       "        </tr>\n",
       "    </tbody>\n",
       "</table>"
      ],
      "text/plain": [
       "[(2019, 23714.294974855053),\n",
       " (2020, 23150.14885775905),\n",
       " (2021, 23554.6921832624),\n",
       " (2022, 23731.495520590455)]"
      ]
     },
     "execution_count": 31,
     "metadata": {},
     "output_type": "execute_result"
    }
   ],
   "source": [
    "%%sql\n",
    "SELECT\n",
    "    YEAR,\n",
    "    AVG(VALUE) AS \"Average Energy Production by Year and Month\"\n",
    "FROM\n",
    "    net_electricity_production\n",
    "WHERE\n",
    "    YEAR >= 2019\n",
    "    AND\n",
    "    YEAR <= 2022\n",
    "GROUP BY\n",
    "    YEAR;"
   ]
  },
  {
   "cell_type": "code",
   "execution_count": 32,
   "metadata": {},
   "outputs": [
    {
     "name": "stdout",
     "output_type": "stream",
     "text": [
      " * sqlite:///world_energy_production.db\n",
      "Done.\n"
     ]
    },
    {
     "data": {
      "text/html": [
       "<table>\n",
       "    <thead>\n",
       "        <tr>\n",
       "            <th>YEAR</th>\n",
       "            <th>Average Energy Demand by Year and Month</th>\n",
       "        </tr>\n",
       "    </thead>\n",
       "    <tbody>\n",
       "        <tr>\n",
       "            <td>2019</td>\n",
       "            <td>22490.187774320664</td>\n",
       "        </tr>\n",
       "        <tr>\n",
       "            <td>2020</td>\n",
       "            <td>22010.051399456504</td>\n",
       "        </tr>\n",
       "        <tr>\n",
       "            <td>2021</td>\n",
       "            <td>17918.92922953014</td>\n",
       "        </tr>\n",
       "        <tr>\n",
       "            <td>2022</td>\n",
       "            <td>22557.22503527479</td>\n",
       "        </tr>\n",
       "    </tbody>\n",
       "</table>"
      ],
      "text/plain": [
       "[(2019, 22490.187774320664),\n",
       " (2020, 22010.051399456504),\n",
       " (2021, 17918.92922953014),\n",
       " (2022, 22557.22503527479)]"
      ]
     },
     "execution_count": 32,
     "metadata": {},
     "output_type": "execute_result"
    }
   ],
   "source": [
    "%%sql\n",
    "SELECT\n",
    "    YEAR,\n",
    "    AVG(VALUE) AS \"Average Energy Demand by Year and Month\"\n",
    "FROM\n",
    "    energy_demand\n",
    "WHERE\n",
    "    YEAR >= 2019\n",
    "    AND\n",
    "    YEAR <= 2022\n",
    "GROUP BY\n",
    "    YEAR;"
   ]
  },
  {
   "cell_type": "markdown",
   "metadata": {},
   "source": [
    "From the output we can see that energy production and energy demand are lower on average in the years of the covid-19 pandemic,2020 and 2021, compared to 2019 and 2022. "
   ]
  }
 ],
 "metadata": {
  "kernelspec": {
   "display_name": "world_energy_production_env",
   "language": "python",
   "name": "python3"
  },
  "language_info": {
   "codemirror_mode": {
    "name": "ipython",
    "version": 3
   },
   "file_extension": ".py",
   "mimetype": "text/x-python",
   "name": "python",
   "nbconvert_exporter": "python",
   "pygments_lexer": "ipython3",
   "version": "3.8.17"
  },
  "orig_nbformat": 4
 },
 "nbformat": 4,
 "nbformat_minor": 2
}
